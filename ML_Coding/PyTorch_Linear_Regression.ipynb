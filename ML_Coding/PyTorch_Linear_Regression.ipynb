{
 "cells": [
  {
   "cell_type": "code",
   "execution_count": null,
   "id": "54617ce2-15c5-43c7-8948-5f66b52e1289",
   "metadata": {},
   "outputs": [],
   "source": [
    "# https://machinelearningmastery.com/pytorch-tutorial-develop-deep-learning-models/\n"
   ]
  },
  {
   "cell_type": "code",
   "execution_count": null,
   "id": "595ca218-f16d-4ade-a065-74c5b4657a05",
   "metadata": {},
   "outputs": [],
   "source": [
    "# Linear Regression Implementation - https://www.deeplearningwizard.com/deep_learning/practical_pytorch/pytorch_linear_regression/#building-a-linear-regression-model-with-pytorch-gpu\n",
    "# https://jovian.ai/aakashns/02-linear-regression"
   ]
  },
  {
   "cell_type": "code",
   "execution_count": 2,
   "id": "7dedc8bb-729e-403a-99c1-9a46646cfddc",
   "metadata": {},
   "outputs": [
    {
     "name": "stdout",
     "output_type": "stream",
     "text": [
      "Python 3.8.8\n"
     ]
    }
   ],
   "source": [
    "#!python --version\n",
    "#!pip install torch"
   ]
  },
  {
   "cell_type": "code",
   "execution_count": 69,
   "id": "25be20f5-07fc-4e77-8118-cec0030ece1d",
   "metadata": {},
   "outputs": [],
   "source": [
    "import numpy as np\n",
    "import torch\n",
    "from numpy import random "
   ]
  },
  {
   "cell_type": "code",
   "execution_count": 70,
   "id": "57d6bee5-daf9-4759-bc52-b1b0072f3ec7",
   "metadata": {},
   "outputs": [
    {
     "data": {
      "text/plain": [
       "array([[668, 127, 638, 154, 159, 929, 766, 739, 846, 508],\n",
       "       [883, 535, 396, 960, 968, 842, 174, 337, 696, 121],\n",
       "       [ 97, 618, 582,  81,  97, 923, 399, 683, 495, 587],\n",
       "       [902, 494, 579, 768, 721, 443,  83, 908, 301, 145],\n",
       "       [944, 382, 283, 705, 738, 656, 445, 526, 653, 246],\n",
       "       [501, 639, 773, 428, 256, 966, 340, 480, 360, 774],\n",
       "       [492, 782, 132, 604, 965, 681, 814, 562, 139, 563],\n",
       "       [832, 401, 148, 434, 401,  43, 219, 902, 301, 737],\n",
       "       [141, 417, 527, 862, 141, 491, 734,   0, 269, 990],\n",
       "       [972, 685,  13, 848, 305,  25, 124, 939, 942, 960]])"
      ]
     },
     "execution_count": 70,
     "metadata": {},
     "output_type": "execute_result"
    }
   ],
   "source": [
    "X = random.randint(1000, size=(100,10))\n",
    "X[:10]"
   ]
  },
  {
   "cell_type": "code",
   "execution_count": 71,
   "id": "2a29d0a1-5367-4fd5-a780-7318b2551a2e",
   "metadata": {},
   "outputs": [
    {
     "data": {
      "text/plain": [
       "array([[12],\n",
       "       [ 4],\n",
       "       [ 3],\n",
       "       [13],\n",
       "       [16],\n",
       "       [ 6],\n",
       "       [18],\n",
       "       [ 5],\n",
       "       [18],\n",
       "       [19]])"
      ]
     },
     "execution_count": 71,
     "metadata": {},
     "output_type": "execute_result"
    }
   ],
   "source": [
    "y = random.randint(20, size=(100,1))\n",
    "y [:10]"
   ]
  },
  {
   "cell_type": "code",
   "execution_count": 72,
   "id": "4af2d048-b1f9-433d-952e-b26e13b2b699",
   "metadata": {},
   "outputs": [],
   "source": [
    "# imp to convert to \"float\" tensor\n",
    "X = torch.from_numpy(X).to(torch.float32)\n",
    "y = torch.from_numpy(y).to(torch.float32)"
   ]
  },
  {
   "cell_type": "code",
   "execution_count": 73,
   "id": "2aa0abb5-7404-475b-ba8e-92f7426e320b",
   "metadata": {},
   "outputs": [
    {
     "data": {
      "text/plain": [
       "(tensor([[668., 127., 638., 154., 159., 929., 766., 739., 846., 508.],\n",
       "         [883., 535., 396., 960., 968., 842., 174., 337., 696., 121.],\n",
       "         [ 97., 618., 582.,  81.,  97., 923., 399., 683., 495., 587.]]),\n",
       " tensor([[12.],\n",
       "         [ 4.],\n",
       "         [ 3.]]))"
      ]
     },
     "execution_count": 73,
     "metadata": {},
     "output_type": "execute_result"
    }
   ],
   "source": [
    "# We'll create a TensorDataset, which allows access to rows from X and y as tuples, and provides standard APIs for working \n",
    "# with many different types of datasets in PyTorch\n",
    "from torch.utils.data import TensorDataset\n",
    "\n",
    "train_ds = TensorDataset(X, y)\n",
    "train_ds[0:3]"
   ]
  },
  {
   "cell_type": "code",
   "execution_count": 74,
   "id": "897c0ca9-4c7e-43c9-a8b5-50fb0c15bd67",
   "metadata": {},
   "outputs": [],
   "source": [
    "# Define data loader (DataLoader can split the data into batches of a predefined size while training)\n",
    "from torch.utils.data import DataLoader\n",
    "\n",
    "batch_size = 5\n",
    "train_dl = DataLoader(train_ds, batch_size, shuffle=True)"
   ]
  },
  {
   "cell_type": "code",
   "execution_count": 75,
   "id": "1ce280aa-0a0d-4906-a308-b88cda41e938",
   "metadata": {},
   "outputs": [
    {
     "name": "stdout",
     "output_type": "stream",
     "text": [
      "tensor([[336., 931., 780., 507., 636., 992., 214., 631., 818., 132.],\n",
      "        [970., 269., 999., 768.,  76., 728., 929., 498., 384., 734.],\n",
      "        [417., 938., 645., 331., 457.,  25., 362., 203., 706., 403.],\n",
      "        [110., 882., 925., 393.,  90., 868.,  50., 238., 569., 220.],\n",
      "        [148., 467., 341., 563., 252., 966., 997., 286., 644., 638.]])\n",
      "tensor([[ 7.],\n",
      "        [14.],\n",
      "        [16.],\n",
      "        [ 0.],\n",
      "        [19.]])\n"
     ]
    }
   ],
   "source": [
    "# Provides data in batch size of 5\n",
    "for xb, yb in train_dl:\n",
    "    print(xb)\n",
    "    print(yb)\n",
    "    break"
   ]
  },
  {
   "cell_type": "code",
   "execution_count": 76,
   "id": "2e6238e8-70b4-42bf-8216-3fcdc817cd96",
   "metadata": {},
   "outputs": [],
   "source": [
    "# Create Model Class and instantiate it\n",
    "import torch.nn as nn\n",
    "\n",
    "class LinearRegressionModel(nn.Module):\n",
    "    def __init__(self, input_dim, output_dim):\n",
    "        super(LinearRegressionModel, self).__init__()\n",
    "        self.linear = nn.Linear(input_dim, output_dim)  \n",
    "\n",
    "    def forward(self, x):\n",
    "        out = self.linear(x)\n",
    "        return out\n",
    "\n",
    "input_dim = 10\n",
    "output_dim = 1\n",
    "\n",
    "model = LinearRegressionModel(input_dim, output_dim)"
   ]
  },
  {
   "cell_type": "code",
   "execution_count": 77,
   "id": "43680a9d-892a-4601-9108-e69232d6887f",
   "metadata": {},
   "outputs": [
    {
     "data": {
      "text/plain": [
       "[Parameter containing:\n",
       " tensor([[ 0.1405, -0.2222,  0.2282, -0.2879, -0.2118,  0.0630, -0.1483, -0.2598,\n",
       "           0.3062, -0.1258]], requires_grad=True),\n",
       " Parameter containing:\n",
       " tensor([-0.0705], requires_grad=True)]"
      ]
     },
     "execution_count": 77,
     "metadata": {},
     "output_type": "execute_result"
    }
   ],
   "source": [
    "list(model.parameters())"
   ]
  },
  {
   "cell_type": "code",
   "execution_count": 80,
   "id": "e55c6a2b-7ef5-404f-8e60-0e3b8312c901",
   "metadata": {},
   "outputs": [],
   "source": [
    "# Loss fn \n",
    "criterion = nn.MSELoss()"
   ]
  },
  {
   "cell_type": "code",
   "execution_count": 82,
   "id": "fac62a7a-c7d0-4fc2-977d-d3cc984c0246",
   "metadata": {},
   "outputs": [],
   "source": [
    "# Optimizer\n",
    "optimizer = torch.optim.Adam(model.parameters(), lr=0.1)"
   ]
  },
  {
   "cell_type": "code",
   "execution_count": 83,
   "id": "1633010d-5df3-4ac2-b7bc-92ecf9d4e6e1",
   "metadata": {},
   "outputs": [
    {
     "name": "stdout",
     "output_type": "stream",
     "text": [
      "Epoch = 0, Loss = 5293.462890625\n",
      "Epoch = 1, Loss = 6128.298828125\n",
      "Epoch = 2, Loss = 383.375\n",
      "Epoch = 3, Loss = 205.92941284179688\n",
      "Epoch = 4, Loss = 27.954395294189453\n"
     ]
    }
   ],
   "source": [
    "# Train the model\n",
    "\n",
    "for epoch in range(5):\n",
    "    # enumerate mini batches\n",
    "    for i, (inputs, targets) in enumerate(train_dl):\n",
    "        # clear the gradients\n",
    "        optimizer.zero_grad()\n",
    "        # compute the model output\n",
    "        yhat = model(inputs)\n",
    "        # calculate loss\n",
    "        loss = criterion(yhat, targets)\n",
    "        # compute gradients\n",
    "        loss.backward()\n",
    "        # update model weights using gradient\n",
    "        optimizer.step()\n",
    "        \n",
    "    print('Epoch = {}, Loss = {}'.format(epoch, loss.item()))\n",
    " "
   ]
  },
  {
   "cell_type": "code",
   "execution_count": null,
   "id": "e8c884d7-0a65-4eff-883d-16d9d2a4ad84",
   "metadata": {},
   "outputs": [],
   "source": [
    "# Generate predictions/inference\n",
    "preds = model(X[:10])\n",
    "preds"
   ]
  },
  {
   "cell_type": "code",
   "execution_count": 84,
   "id": "9a1c5c3f-d931-4fa4-8a29-346ab0053ebb",
   "metadata": {},
   "outputs": [],
   "source": [
    "# saving model\n",
    "\n",
    "torch.save(model.state_dict(), 'pytorch_linear_regression_model.pkl')"
   ]
  },
  {
   "cell_type": "code",
   "execution_count": null,
   "id": "ee59c804-f4b5-4854-806d-21e118b95b3d",
   "metadata": {},
   "outputs": [],
   "source": []
  }
 ],
 "metadata": {
  "kernelspec": {
   "display_name": "Python 3",
   "language": "python",
   "name": "python3"
  },
  "language_info": {
   "codemirror_mode": {
    "name": "ipython",
    "version": 3
   },
   "file_extension": ".py",
   "mimetype": "text/x-python",
   "name": "python",
   "nbconvert_exporter": "python",
   "pygments_lexer": "ipython3",
   "version": "3.8.8"
  }
 },
 "nbformat": 4,
 "nbformat_minor": 5
}
