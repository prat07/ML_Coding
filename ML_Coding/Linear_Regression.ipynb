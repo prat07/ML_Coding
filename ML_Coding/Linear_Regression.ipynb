{
 "cells": [
  {
   "cell_type": "code",
   "execution_count": 5,
   "id": "574a8db8-74e9-457d-8278-3bcc6e939a73",
   "metadata": {},
   "outputs": [],
   "source": [
    "import numpy as np\n",
    "from numpy import random"
   ]
  },
  {
   "cell_type": "code",
   "execution_count": 6,
   "id": "3599d7f3-56ea-4b1a-8dd6-f882c6e213a2",
   "metadata": {},
   "outputs": [
    {
     "data": {
      "text/plain": [
       "array([[ 71, 705, 868, 982, 515, 697, 775, 340, 893, 105],\n",
       "       [875, 631, 836, 745, 651, 780,   0, 927, 972, 804],\n",
       "       [122, 568, 735, 199, 357, 912, 444, 560, 115, 980],\n",
       "       [471, 351, 519, 614, 300, 583, 163, 868, 427, 800],\n",
       "       [115, 264, 196, 883, 279, 438, 905, 244, 811, 939],\n",
       "       [386, 812, 832, 777, 462, 927, 249, 953, 260, 216],\n",
       "       [213, 998, 569, 581, 873, 593, 907, 728, 708,  33],\n",
       "       [771, 433, 808, 895, 327, 707, 551, 361, 464, 998],\n",
       "       [701, 366, 806,  78, 472, 195, 883, 445,   9, 410],\n",
       "       [ 91, 416,  38, 656, 694, 721, 231, 683, 388, 380]])"
      ]
     },
     "execution_count": 6,
     "metadata": {},
     "output_type": "execute_result"
    }
   ],
   "source": [
    "# Generate X\n",
    "X = random.randint(1000, size=(100,10))\n",
    "X[:10]"
   ]
  },
  {
   "cell_type": "code",
   "execution_count": 7,
   "id": "515fe5ec-d8da-4376-a824-13d6c4585b77",
   "metadata": {},
   "outputs": [
    {
     "data": {
      "text/plain": [
       "array([[0],\n",
       "       [0],\n",
       "       [0],\n",
       "       [0],\n",
       "       [1],\n",
       "       [0],\n",
       "       [0],\n",
       "       [0],\n",
       "       [0],\n",
       "       [1]])"
      ]
     },
     "execution_count": 7,
     "metadata": {},
     "output_type": "execute_result"
    }
   ],
   "source": [
    "# Generate y, should be size (r,1)\n",
    "y = random.randint(2, size=(100,1))\n",
    "y [:10]"
   ]
  },
  {
   "cell_type": "code",
   "execution_count": 8,
   "id": "d12684b7-e912-4c50-9e0f-bbb9ade586e3",
   "metadata": {},
   "outputs": [],
   "source": [
    "def train_linear_reg(X, y):\n",
    "    weights = np.dot(np.dot(np.linalg.inv(np.dot(X.T, X)), X.T), y)\n",
    "    return weights"
   ]
  },
  {
   "cell_type": "code",
   "execution_count": 9,
   "id": "72f64af0-45b5-4303-b46e-1a5fe2ef0bbd",
   "metadata": {},
   "outputs": [],
   "source": [
    "wts = train_linear_reg(X, y)"
   ]
  },
  {
   "cell_type": "code",
   "execution_count": 10,
   "id": "aeae8d24-7947-491d-b427-138ba272fa10",
   "metadata": {},
   "outputs": [
    {
     "data": {
      "text/plain": [
       "array([[ 2.13653777e-04],\n",
       "       [-2.09446073e-05],\n",
       "       [ 1.86083330e-04],\n",
       "       [ 5.52030495e-06],\n",
       "       [ 3.61738168e-05],\n",
       "       [ 9.16098084e-05],\n",
       "       [ 4.13925136e-05],\n",
       "       [ 1.34035251e-04],\n",
       "       [ 2.69260868e-04],\n",
       "       [ 3.96550831e-05]])"
      ]
     },
     "execution_count": 10,
     "metadata": {},
     "output_type": "execute_result"
    }
   ],
   "source": [
    "wts"
   ]
  },
  {
   "cell_type": "code",
   "execution_count": null,
   "id": "0a05cd78-33c7-4328-80f7-ca619d8ed5c8",
   "metadata": {},
   "outputs": [],
   "source": []
  },
  {
   "cell_type": "code",
   "execution_count": 11,
   "id": "ddea8af6-1e53-4107-859f-156dbb0f95db",
   "metadata": {},
   "outputs": [],
   "source": [
    "def train_linear_reg_gd(X, y, learning_rate=0.001, max_epochs=10):\n",
    "    num_datapoints, num_features = X.shape\n",
    "\n",
    "    # set weights and bias to 0\n",
    "    weights = np.zeros(shape=(num_features, 1))\n",
    "    bias = 0\n",
    "\n",
    "    for i in range(max_epochs):\n",
    "        # Calculate simple linear combination y = mx + c or y = X * w + b\n",
    "        y_predict = np.dot(X, weights) + bias  # O(r*c)\n",
    "        # Use mean squared error to calculate the loss and then\n",
    "        # get the average over all datapoints to get the cost\n",
    "        cost = (1 / num_datapoints) * np.sum((y_predict - y) ** 2)  # O(r)\n",
    "\n",
    "        # Calculate gradients\n",
    "        # 1st - gradient with respect to weights\n",
    "        grad_weights = (1 / num_datapoints) * np.dot(X.T, (y_predict - y))  # O(c⋅r)\n",
    "        # 2nd - gradient with respect to bias\n",
    "        grad_bias = (1 / num_datapoints) * np.sum((y_predict - y))  # O(r)\n",
    "\n",
    "        # update weights and bias\n",
    "        weights -= learning_rate * grad_weights\n",
    "        bias -= learning_rate * grad_bias\n",
    "\n",
    "    return weights, bias\n"
   ]
  },
  {
   "cell_type": "code",
   "execution_count": 12,
   "id": "efb99667-57a0-436f-9b58-b68fe2657b5e",
   "metadata": {},
   "outputs": [],
   "source": [
    "wts, bs = train_linear_reg_gd(X, y)"
   ]
  },
  {
   "cell_type": "code",
   "execution_count": 20,
   "id": "e3c911c9-0196-403f-a040-e4dfdf0aa181",
   "metadata": {},
   "outputs": [
    {
     "data": {
      "text/plain": [
       "array([[-1.77285393e+30],\n",
       "       [-1.97546165e+30],\n",
       "       [-1.88924020e+30],\n",
       "       [-2.01007497e+30],\n",
       "       [-1.75743987e+30],\n",
       "       [-1.74592119e+30],\n",
       "       [-1.82668466e+30],\n",
       "       [-1.94719702e+30],\n",
       "       [-1.77167932e+30],\n",
       "       [-1.80025447e+30]])"
      ]
     },
     "execution_count": 20,
     "metadata": {},
     "output_type": "execute_result"
    }
   ],
   "source": [
    "wts"
   ]
  },
  {
   "cell_type": "markdown",
   "id": "736d0382-d4c6-43ec-b1bb-48c616f5ecf3",
   "metadata": {},
   "source": [
    "### IMP. POINTS TO NOTE\n",
    "#### y shape should (r,1) and weights shape should be (c,1)\n",
    "#### max_epochs should be small, else some calculation will overflow floating point calculation\n",
    "#### cost can also be used as stopping criteria e.g. while cost > 0.0001 enter the loop ie. keep updating wts and bias"
   ]
  },
  {
   "cell_type": "code",
   "execution_count": null,
   "id": "addcad3f-7293-4024-bbbb-a0455e670a4b",
   "metadata": {},
   "outputs": [],
   "source": []
  },
  {
   "cell_type": "code",
   "execution_count": 18,
   "id": "27341abf-7ebf-48bd-96e6-e6767851fd5c",
   "metadata": {},
   "outputs": [],
   "source": [
    "class LinearRegression:\n",
    "\n",
    "    def __init__(self, lr = 0.001, n_iters=10):\n",
    "        self.lr = lr\n",
    "        self.n_iters = n_iters\n",
    "        self.weights = None\n",
    "        self.bias = None\n",
    "\n",
    "    def fit(self, X, y):\n",
    "        n_samples, n_features = X.shape\n",
    "        self.weights = np.zeros((n_features,1))\n",
    "        self.bias = 0\n",
    "\n",
    "        for _ in range(self.n_iters):\n",
    "            y_pred = np.dot(X, self.weights) + self.bias\n",
    "\n",
    "            dw = (1/n_samples) * np.dot(X.T, (y_pred-y))\n",
    "            db = (1/n_samples) * np.sum(y_pred-y)\n",
    "\n",
    "            self.weights = self.weights - self.lr * dw\n",
    "            self.bias = self.bias - self.lr * db\n",
    "\n",
    "    def predict(self, X_test):\n",
    "        y_pred = np.dot(X_test, self.weights) + self.bias\n",
    "        return y_pred"
   ]
  },
  {
   "cell_type": "code",
   "execution_count": 19,
   "id": "b023b14c-8544-4ef0-87ac-dd24ed541e2a",
   "metadata": {},
   "outputs": [
    {
     "data": {
      "text/plain": [
       "array([[-1.77285393e+30],\n",
       "       [-1.97546165e+30],\n",
       "       [-1.88924020e+30],\n",
       "       [-2.01007497e+30],\n",
       "       [-1.75743987e+30],\n",
       "       [-1.74592119e+30],\n",
       "       [-1.82668466e+30],\n",
       "       [-1.94719702e+30],\n",
       "       [-1.77167932e+30],\n",
       "       [-1.80025447e+30]])"
      ]
     },
     "execution_count": 19,
     "metadata": {},
     "output_type": "execute_result"
    }
   ],
   "source": [
    "lr = LinearRegression()\n",
    "lr.fit(X,y)\n",
    "lr.weights"
   ]
  },
  {
   "cell_type": "code",
   "execution_count": null,
   "id": "fa45c87b-01ae-444f-b75e-80961a3b235b",
   "metadata": {},
   "outputs": [],
   "source": [
    "# Time Complexity = O(num of epochs * num of data pts)"
   ]
  }
 ],
 "metadata": {
  "kernelspec": {
   "display_name": "Python 3",
   "language": "python",
   "name": "python3"
  },
  "language_info": {
   "codemirror_mode": {
    "name": "ipython",
    "version": 3
   },
   "file_extension": ".py",
   "mimetype": "text/x-python",
   "name": "python",
   "nbconvert_exporter": "python",
   "pygments_lexer": "ipython3",
   "version": "3.8.8"
  }
 },
 "nbformat": 4,
 "nbformat_minor": 5
}
