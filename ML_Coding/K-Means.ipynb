{
 "cells": [
  {
   "cell_type": "code",
   "execution_count": 1,
   "id": "2a804972-b048-4449-a9e8-4f14eb81353f",
   "metadata": {},
   "outputs": [],
   "source": [
    "import numpy as np\n",
    "from numpy import random"
   ]
  },
  {
   "cell_type": "code",
   "execution_count": 2,
   "id": "f3e2a20a-ac28-4ffa-b6f4-f7c235e670ea",
   "metadata": {},
   "outputs": [
    {
     "data": {
      "text/plain": [
       "3"
      ]
     },
     "execution_count": 2,
     "metadata": {},
     "output_type": "execute_result"
    }
   ],
   "source": [
    "X = np.array([[1,2], [4,5], [7,8]])\n",
    "len(X)"
   ]
  },
  {
   "cell_type": "code",
   "execution_count": 3,
   "id": "56dfc70d-7013-4006-860a-1ca94caaa68c",
   "metadata": {},
   "outputs": [
    {
     "data": {
      "text/plain": [
       "array([2, 2])"
      ]
     },
     "execution_count": 3,
     "metadata": {},
     "output_type": "execute_result"
    }
   ],
   "source": [
    "np.random.choice(len(X), 2) # or np.random.randint(0,len(X), 2)\n",
    "# range(num)-> excludes num"
   ]
  },
  {
   "cell_type": "code",
   "execution_count": 4,
   "id": "8f5ec1a0-f8b9-4260-a66f-dfda49015bd2",
   "metadata": {},
   "outputs": [
    {
     "data": {
      "text/plain": [
       "array([[-10, -11],\n",
       "       [-20, -20]])"
      ]
     },
     "execution_count": 4,
     "metadata": {},
     "output_type": "execute_result"
    }
   ],
   "source": [
    "a = np.array([[11,11], [1,2]])\n",
    "b = np.array([[21,22]]) \n",
    "\n",
    "a-b"
   ]
  },
  {
   "cell_type": "code",
   "execution_count": 5,
   "id": "6094a827-ce70-4229-bf20-7b3f21575536",
   "metadata": {},
   "outputs": [
    {
     "data": {
      "text/plain": [
       "-61"
      ]
     },
     "execution_count": 5,
     "metadata": {},
     "output_type": "execute_result"
    }
   ],
   "source": [
    "np.sum(a-b)"
   ]
  },
  {
   "cell_type": "code",
   "execution_count": 6,
   "id": "7e0766ff-b675-4799-8bf2-6e67c061fc75",
   "metadata": {},
   "outputs": [
    {
     "data": {
      "text/plain": [
       "array([-30, -31])"
      ]
     },
     "execution_count": 6,
     "metadata": {},
     "output_type": "execute_result"
    }
   ],
   "source": [
    "np.sum(a-b, axis = 0)"
   ]
  },
  {
   "cell_type": "code",
   "execution_count": 7,
   "id": "9add86f9-55ab-4ea5-99c9-6a3cdcb8aaf8",
   "metadata": {},
   "outputs": [
    {
     "data": {
      "text/plain": [
       "array([-21, -40])"
      ]
     },
     "execution_count": 7,
     "metadata": {},
     "output_type": "execute_result"
    }
   ],
   "source": [
    "np.sum(a-b, axis = 1)"
   ]
  },
  {
   "cell_type": "code",
   "execution_count": null,
   "id": "4aa3714d-4e02-4258-8034-01b471cd8ee9",
   "metadata": {},
   "outputs": [],
   "source": []
  },
  {
   "cell_type": "code",
   "execution_count": 8,
   "id": "5b1063e6-efa7-4202-b793-0462d9f2f5c5",
   "metadata": {},
   "outputs": [
    {
     "data": {
      "text/plain": [
       "1"
      ]
     },
     "execution_count": 8,
     "metadata": {},
     "output_type": "execute_result"
    }
   ],
   "source": [
    "c = np.array([[11,10], [22,23]])\n",
    "np.argmin(c) #flattened array index\n",
    "\n",
    "# In case of multiple occurrences of the minimum values, the indices corresponding to the first occurrence are returned."
   ]
  },
  {
   "cell_type": "code",
   "execution_count": 9,
   "id": "aa48925b-d476-478c-80a4-3fde001fd297",
   "metadata": {},
   "outputs": [
    {
     "data": {
      "text/plain": [
       "array([0, 0])"
      ]
     },
     "execution_count": 9,
     "metadata": {},
     "output_type": "execute_result"
    }
   ],
   "source": [
    "np.argmin(c, axis=0)"
   ]
  },
  {
   "cell_type": "code",
   "execution_count": 10,
   "id": "4945af7e-94af-4a1f-8963-c09a984e9563",
   "metadata": {},
   "outputs": [
    {
     "data": {
      "text/plain": [
       "array([1, 0])"
      ]
     },
     "execution_count": 10,
     "metadata": {},
     "output_type": "execute_result"
    }
   ],
   "source": [
    "np.argmin(c, axis=1)"
   ]
  },
  {
   "cell_type": "code",
   "execution_count": null,
   "id": "1980b83f-dbf7-46ab-a1ae-5e361917848a",
   "metadata": {},
   "outputs": [],
   "source": []
  },
  {
   "cell_type": "code",
   "execution_count": 11,
   "id": "89b70885-2a97-4f9a-9b23-4dd34db274b2",
   "metadata": {},
   "outputs": [
    {
     "data": {
      "text/plain": [
       "[array([21, 22]), array([41, 42])]"
      ]
     },
     "execution_count": 11,
     "metadata": {},
     "output_type": "execute_result"
    }
   ],
   "source": [
    "X = np.array([[11,12], [21,22], [31,32], [41,42]])\n",
    "k = 2\n",
    "max_epochs = 3\n",
    "\n",
    "random_list = np.random.choice(len(X), k) # same as np.random.randint(0,len(X),k)\n",
    "centroids = [X[i] for i in random_list]\n",
    "\n",
    "centroids"
   ]
  },
  {
   "cell_type": "code",
   "execution_count": 12,
   "id": "9c5795e9-0c86-472a-970a-e336850ecbfb",
   "metadata": {},
   "outputs": [
    {
     "data": {
      "text/plain": [
       "array([[11, 12],\n",
       "       [21, 22]])"
      ]
     },
     "execution_count": 12,
     "metadata": {},
     "output_type": "execute_result"
    }
   ],
   "source": [
    "X[:2]"
   ]
  },
  {
   "cell_type": "code",
   "execution_count": 13,
   "id": "310f0220-b4c8-4030-ab87-438451a05d0e",
   "metadata": {},
   "outputs": [
    {
     "data": {
      "text/plain": [
       "array([41, 42])"
      ]
     },
     "execution_count": 13,
     "metadata": {},
     "output_type": "execute_result"
    }
   ],
   "source": [
    "X[3]"
   ]
  },
  {
   "cell_type": "code",
   "execution_count": 14,
   "id": "c924ad8a-d5fb-4858-ab0c-927073a97ac6",
   "metadata": {},
   "outputs": [],
   "source": [
    "def point_assignment_cluster(point, centroids):\n",
    "    euclidean_dist = np.sqrt(np.sum((centroids - point) ** 2, axis = 1)) # centroids - point can only be done if one np array has only one element\n",
    "    return np.argmin(euclidean_dist)"
   ]
  },
  {
   "cell_type": "code",
   "execution_count": 15,
   "id": "20c0c25d-c827-42e7-81ab-32e16b4182d7",
   "metadata": {},
   "outputs": [],
   "source": [
    "def cluster_assignment(X, centroids):\n",
    "    new_centroids_index = []\n",
    "    for point in X:\n",
    "        new_centroid_index =  point_assignment_cluster(point, centroids)\n",
    "        new_centroids_index.append(new_centroid_index)\n",
    "    return np.array(new_centroids_index)"
   ]
  },
  {
   "cell_type": "code",
   "execution_count": 16,
   "id": "1d84f5d8-fcd9-4d5c-9bd2-386ed8ff6588",
   "metadata": {},
   "outputs": [
    {
     "data": {
      "text/plain": [
       "array([0., 0., 0., 0.])"
      ]
     },
     "execution_count": 16,
     "metadata": {},
     "output_type": "execute_result"
    }
   ],
   "source": [
    "cluster_index = np.zeros(len(X))\n",
    "cluster_index"
   ]
  },
  {
   "cell_type": "code",
   "execution_count": 17,
   "id": "e8d67637-97ec-4aeb-892f-f95cfb8d74a3",
   "metadata": {},
   "outputs": [],
   "source": [
    "for _ in range(max_epochs):\n",
    "    cluster_index = cluster_assignment(X, centroids)\n",
    "    #print(cluster_index)\n",
    "    new_centroids = []\n",
    "    for c in range(k):\n",
    "        #print(X[cluster_index == c])\n",
    "        new_centroids.append(np.mean(X[cluster_index == c], axis = 0))\n",
    "    centroids = np.array(new_centroids)\n",
    "#print(centroids)\n",
    "        "
   ]
  },
  {
   "cell_type": "code",
   "execution_count": 18,
   "id": "3ceb8ae3-c20d-4bd1-a9ec-4250a6808f20",
   "metadata": {},
   "outputs": [],
   "source": [
    "# Time Complexity = O(num of data pts * num of clusters * num of iterations/epochs)"
   ]
  },
  {
   "cell_type": "code",
   "execution_count": 19,
   "id": "139eef96-b6b0-42fc-b1df-9dae5439ce30",
   "metadata": {},
   "outputs": [],
   "source": [
    "# What if the number of data points is huge that it cannot fit into memory\n",
    "# Ans: Map - Reduce\n",
    "# Map for assignment of each data point to a cluster\n",
    "# Reduce for calculating new centroid"
   ]
  },
  {
   "cell_type": "code",
   "execution_count": null,
   "id": "e8d78e0b-552e-4a70-99fe-d8ffcd79a060",
   "metadata": {},
   "outputs": [],
   "source": []
  },
  {
   "cell_type": "code",
   "execution_count": 20,
   "id": "a74d9d3f-8a73-4713-bccc-7a7e5f0aec3f",
   "metadata": {},
   "outputs": [],
   "source": [
    "# fit: find cluster centroids\n",
    "# predict: find which cluster these points belong to\n",
    "\n",
    "class K_Means:\n",
    "    def __init__(self, k, max_epochs):\n",
    "        self.k = k\n",
    "        self.max_epochs = max_epochs\n",
    "        self.centroids = [] \n",
    "        \n",
    "    def __find_random_centroids(self, X, k):\n",
    "        random_list = np.random.choice(len(X), k)\n",
    "        return [X[i] for i in random_list]\n",
    "    \n",
    "    def __point_assignment_cluster(self, point, centroids):\n",
    "        euclidean_dist = np.sqrt(np.sum((centroids - point) ** 2, axis = 1))\n",
    "        return np.argmin(euclidean_dist)\n",
    "    \n",
    "    def __cluster_assignment(self, X, centroids):\n",
    "        new_centroids_index = []\n",
    "        for point in X:\n",
    "            new_centroid_index =  self.__point_assignment_cluster(point, centroids)\n",
    "            new_centroids_index.append(new_centroid_index)\n",
    "        return np.array(new_centroids_index)\n",
    "        \n",
    "        \n",
    "    def fit(self, X):\n",
    "        self.centroids = np.array(self.__find_random_centroids(X, self.k))\n",
    "        \n",
    "        for _ in range(self.max_epochs):\n",
    "            \n",
    "            cluster_index = self.__cluster_assignment(X, self.centroids)\n",
    "            \n",
    "            new_centroids = []\n",
    "            for c in range(self.k):\n",
    "                new_centroids.append(np.mean(X[cluster_index == c], axis = 0))\n",
    "            self.centroids = np.array(new_centroids)\n",
    "            \n",
    "    \n",
    "    \n",
    "    def predict(self, X_test):\n",
    "        return self.__cluster_assignment(X_test, np.array(self.centroids))\n",
    "                "
   ]
  },
  {
   "cell_type": "code",
   "execution_count": 23,
   "id": "c1c732df-3c1e-4e38-a054-e40fdc04bdfb",
   "metadata": {},
   "outputs": [],
   "source": [
    "X = np.array([[0,1], [0,2], [5,3], [5,4], [10, 100], [10,101]])\n",
    "kmeans = K_Means(3, 5)\n",
    "kmeans.fit(X)\n"
   ]
  },
  {
   "cell_type": "code",
   "execution_count": 24,
   "id": "5eaaa9ac-bc49-4775-843e-75cba42bb0e8",
   "metadata": {},
   "outputs": [
    {
     "data": {
      "text/plain": [
       "array([[  5. ,   3.5],\n",
       "       [ 10. , 100.5],\n",
       "       [  0. ,   1.5]])"
      ]
     },
     "execution_count": 24,
     "metadata": {},
     "output_type": "execute_result"
    }
   ],
   "source": [
    "kmeans.centroids"
   ]
  },
  {
   "cell_type": "code",
   "execution_count": 25,
   "id": "bf571fea-f4e8-4bd9-8dab-3ccb5d29d1b9",
   "metadata": {},
   "outputs": [
    {
     "data": {
      "text/plain": [
       "array([2, 1])"
      ]
     },
     "execution_count": 25,
     "metadata": {},
     "output_type": "execute_result"
    }
   ],
   "source": [
    "X_test = np.array([[2,2], [11,95]])\n",
    "kmeans.predict(X_test)"
   ]
  },
  {
   "cell_type": "code",
   "execution_count": null,
   "id": "00f3ff31-1686-409b-abbe-a7791e27d483",
   "metadata": {},
   "outputs": [],
   "source": []
  }
 ],
 "metadata": {
  "kernelspec": {
   "display_name": "Python 3",
   "language": "python",
   "name": "python3"
  },
  "language_info": {
   "codemirror_mode": {
    "name": "ipython",
    "version": 3
   },
   "file_extension": ".py",
   "mimetype": "text/x-python",
   "name": "python",
   "nbconvert_exporter": "python",
   "pygments_lexer": "ipython3",
   "version": "3.8.8"
  }
 },
 "nbformat": 4,
 "nbformat_minor": 5
}
