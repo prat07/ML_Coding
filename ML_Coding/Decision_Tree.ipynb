{
 "cells": [
  {
   "cell_type": "code",
   "execution_count": 1,
   "id": "ca33c263-9849-4de4-baf2-6972a0cb9c48",
   "metadata": {},
   "outputs": [],
   "source": [
    "import numpy as np"
   ]
  },
  {
   "cell_type": "code",
   "execution_count": 7,
   "id": "c5e26123-ac8c-4e1e-9273-2330010766e7",
   "metadata": {},
   "outputs": [
    {
     "data": {
      "text/plain": [
       "array([[ 1,  1],\n",
       "       [ 2,  2],\n",
       "       [ 0,  0],\n",
       "       [-1, -1],\n",
       "       [-2, -2]])"
      ]
     },
     "execution_count": 7,
     "metadata": {},
     "output_type": "execute_result"
    }
   ],
   "source": [
    "X = np.array([[1,1], [2,2],[0,0], [-1,-1], [-2,-2]])\n",
    "X"
   ]
  },
  {
   "cell_type": "code",
   "execution_count": 8,
   "id": "35212c24-b7f7-4816-b938-0a5787ac3644",
   "metadata": {},
   "outputs": [
    {
     "data": {
      "text/plain": [
       "array([1, 1, 1, 2, 2])"
      ]
     },
     "execution_count": 8,
     "metadata": {},
     "output_type": "execute_result"
    }
   ],
   "source": [
    "y = np.array([1,1,1,2,2])\n",
    "y"
   ]
  },
  {
   "cell_type": "code",
   "execution_count": null,
   "id": "efe728f6-da87-4e98-878a-922a17b68131",
   "metadata": {},
   "outputs": [],
   "source": []
  },
  {
   "cell_type": "code",
   "execution_count": 9,
   "id": "95a57c84-2bf3-46fa-815a-5199c6e9760b",
   "metadata": {},
   "outputs": [],
   "source": [
    "def calculate_cost(left_subset, right_subset, classes):\n",
    "    total_data_points = len(left_subset) + len(right_subset)\n",
    "\n",
    "    gini_left = gini_right = 0\n",
    "\n",
    "    if len(left_subset) > 0:\n",
    "        sum_of_prob = 0\n",
    "        for c in classes:\n",
    "            # find the num of data points which are in class c\n",
    "            num_in_c = len([l for l in left_subset if l[1] == c])\n",
    "            # now we can get the probability of class c in this subset\n",
    "            prob = num_in_c / len(left_subset)\n",
    "            # sum this value squared as per the equation\n",
    "            sum_of_prob += prob**2\n",
    "        gini_left = 1 - sum_of_prob\n",
    "\n",
    "    # we do the same for the right subset\n",
    "    if len(right_subset) > 0:\n",
    "        sum_of_prob = 0\n",
    "        for c in classes:\n",
    "            num_in_c = len([l for l in right_subset if l[1] == c])\n",
    "            prob = num_in_c / len(right_subset)\n",
    "            sum_of_prob += prob**2\n",
    "        gini_right = 1 - sum_of_prob\n",
    "\n",
    "    # we calculate the cost\n",
    "    cost = (len(left_subset) / total_data_points) * gini_left + (\n",
    "        len(right_subset) / total_data_points\n",
    "    ) * gini_right\n",
    "\n",
    "    return cost"
   ]
  },
  {
   "cell_type": "code",
   "execution_count": 10,
   "id": "85830a30-cc61-4574-8ee3-08323d2e32ed",
   "metadata": {},
   "outputs": [],
   "source": [
    "def decision_tree_best_split(X, y):\n",
    "    best_feature_val = best_feature_idx = best_cost_val = float(\"inf\")\n",
    "    best_data_point = None\n",
    "    classes = range(len(set(y)))  # get the number of classes\n",
    "\n",
    "    # Iterate over each possible feature value\n",
    "    for feature in range(len(X[0])):\n",
    "        for data_point in range(len(X)):\n",
    "            feature_threshold_val = X[data_point][feature]\n",
    "            # based on our threshold value, we determine\n",
    "            # which data points go into the left or right subset\n",
    "            left_subset = []\n",
    "            right_subset = []\n",
    "            for instance, label in zip(X, y):\n",
    "                if instance[feature] < feature_threshold_val:\n",
    "                    left_subset.append((instance, label))\n",
    "                else:\n",
    "                    right_subset.append((instance, label))\n",
    "            # calculate the cost\n",
    "            curr_cost = calculate_cost(\n",
    "                left_subset, right_subset, classes\n",
    "            )  # TALK ABOUT REMOVING CLASSES\n",
    "\n",
    "            # update our best feature if the current cost\n",
    "            # is less than our best so far\n",
    "            if curr_cost < best_cost_val:\n",
    "                best_feature_idx = feature\n",
    "                best_feature_val = feature_threshold_val\n",
    "                best_cost_val = curr_cost\n",
    "                best_data_point = data_point\n",
    "\n",
    "    return (best_feature_val, best_feature_idx, best_data_point)"
   ]
  },
  {
   "cell_type": "code",
   "execution_count": 11,
   "id": "822fb994-1579-422f-ba26-cd4a13314224",
   "metadata": {},
   "outputs": [
    {
     "name": "stdout",
     "output_type": "stream",
     "text": [
      "(0, 0, 2)\n"
     ]
    }
   ],
   "source": [
    "print(decision_tree_best_split(X,y))"
   ]
  },
  {
   "cell_type": "code",
   "execution_count": null,
   "id": "0d233c8c-4b8c-42bf-a112-1356cb500fa7",
   "metadata": {},
   "outputs": [],
   "source": []
  }
 ],
 "metadata": {
  "kernelspec": {
   "display_name": "Python 3",
   "language": "python",
   "name": "python3"
  },
  "language_info": {
   "codemirror_mode": {
    "name": "ipython",
    "version": 3
   },
   "file_extension": ".py",
   "mimetype": "text/x-python",
   "name": "python",
   "nbconvert_exporter": "python",
   "pygments_lexer": "ipython3",
   "version": "3.8.8"
  }
 },
 "nbformat": 4,
 "nbformat_minor": 5
}
