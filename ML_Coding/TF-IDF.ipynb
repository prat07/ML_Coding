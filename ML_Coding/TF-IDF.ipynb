{
 "cells": [
  {
   "cell_type": "code",
   "execution_count": null,
   "id": "d2fd0b8a-c396-4ab3-861d-25b1e22ead06",
   "metadata": {},
   "outputs": [],
   "source": [
    "# using python \n",
    "# using map-reduce/spark"
   ]
  },
  {
   "cell_type": "code",
   "execution_count": null,
   "id": "274a1f61-c83a-46e6-98d7-28d8c6ab9b6c",
   "metadata": {},
   "outputs": [],
   "source": [
    "# https://towardsdatascience.com/natural-language-processing-feature-engineering-using-tf-idf-e8b9d00e7e76\n",
    "\n",
    "# https://towardsdatascience.com/tf-idf-calculation-using-map-reduce-algorithm-in-pyspark-e89b5758e64c\n",
    "# https://dzone.com/articles/calculating-tf-idf-with-apache-spark"
   ]
  },
  {
   "cell_type": "code",
   "execution_count": 27,
   "id": "ea543589-ec05-4090-8e5a-32a2a8d4c609",
   "metadata": {},
   "outputs": [],
   "source": [
    "from collections import defaultdict\n",
    "tf_dict = defaultdict(int)\n",
    "idf_dict = defaultdict(int)\n",
    "tf_idf_dict = defaultdict(int)"
   ]
  },
  {
   "cell_type": "code",
   "execution_count": 28,
   "id": "5d76ec98-962f-4d6c-8e51-ddf0daf12df2",
   "metadata": {},
   "outputs": [],
   "source": [
    "# TF depends on term for a particular doc\n",
    "def compute_TF(corpus):\n",
    "    for doc_id, doc in enumerate(corpus):\n",
    "        terms = doc.split()\n",
    "        for term in terms:\n",
    "            tf_dict[(term, doc_id)] = tf_dict[(term, doc_id)] + 1  \n",
    "            "
   ]
  },
  {
   "cell_type": "code",
   "execution_count": 29,
   "id": "b603b76a-f9d4-47c0-a6a4-5602f679a45d",
   "metadata": {},
   "outputs": [],
   "source": [
    "# IDF is independent of particular doc\n",
    "import math\n",
    "def compute_IDF(corpus_size):\n",
    "    for term, doc_id in tf_dict.keys():\n",
    "        idf_dict[term] = idf_dict[term] + 1\n",
    "    \n",
    "    for term in idf_dict.keys():\n",
    "        idf_dict[term] = math.log10(corpus_size/(idf_dict[term]))\n",
    "      "
   ]
  },
  {
   "cell_type": "code",
   "execution_count": 30,
   "id": "0b0a0b7b-9c57-4507-9c81-dc72563b99ee",
   "metadata": {},
   "outputs": [],
   "source": [
    "# TF-IDF is on term for a particular doc\n",
    "def compute_TF_IDF(): \n",
    "    for term, doc_id in tf_dict.keys():\n",
    "        tf_idf_dict[(term, doc_id)] =  tf_dict[(term, doc_id)] * idf_dict[term]\n",
    "        "
   ]
  },
  {
   "cell_type": "code",
   "execution_count": 31,
   "id": "086bd068-754f-4b7c-9dc3-c48b160cad53",
   "metadata": {},
   "outputs": [
    {
     "name": "stdout",
     "output_type": "stream",
     "text": [
      "defaultdict(<class 'int'>, {('Hi', 0): 1, ('I', 0): 1, ('am', 0): 1, ('good', 0): 1, ('Hi', 1): 1, ('how', 1): 1, ('are', 1): 1, ('you', 1): 1, ('good', 2): 1, ('now', 2): 1, ('honey', 2): 1})\n",
      "defaultdict(<class 'int'>, {'Hi': 0.17609125905568124, 'I': 0.47712125471966244, 'am': 0.47712125471966244, 'good': 0.17609125905568124, 'how': 0.47712125471966244, 'are': 0.47712125471966244, 'you': 0.47712125471966244, 'now': 0.47712125471966244, 'honey': 0.47712125471966244})\n",
      "defaultdict(<class 'int'>, {('Hi', 0): 0.17609125905568124, ('I', 0): 0.47712125471966244, ('am', 0): 0.47712125471966244, ('good', 0): 0.17609125905568124, ('Hi', 1): 0.17609125905568124, ('how', 1): 0.47712125471966244, ('are', 1): 0.47712125471966244, ('you', 1): 0.47712125471966244, ('good', 2): 0.17609125905568124, ('now', 2): 0.47712125471966244, ('honey', 2): 0.47712125471966244})\n"
     ]
    }
   ],
   "source": [
    "corpus = ['Hi I am good', 'Hi how are you', 'good now honey']\n",
    "\n",
    "\n",
    "compute_TF(corpus)\n",
    "print(tf_dict)\n",
    "compute_IDF(len(corpus))\n",
    "print(idf_dict)\n",
    "compute_TF_IDF()\n",
    "print(tf_idf_dict)\n"
   ]
  },
  {
   "cell_type": "code",
   "execution_count": null,
   "id": "77a58a46-a52d-4188-8d85-ab8cc37f9290",
   "metadata": {},
   "outputs": [],
   "source": []
  },
  {
   "cell_type": "code",
   "execution_count": null,
   "id": "5566d64e-7491-4243-bcdf-df03e12989ea",
   "metadata": {},
   "outputs": [],
   "source": [
    "# Map-Reduce way \n",
    "# ouput of prev step becomes the input the next step"
   ]
  },
  {
   "cell_type": "code",
   "execution_count": null,
   "id": "72af3549-ee73-45e7-8b54-9214fde8e082",
   "metadata": {},
   "outputs": [],
   "source": [
    "# TF: defined for a term in a particular doc\n",
    "# i) Map -> Input: doc, Output: ( (term,doc), 1) for every occurrence of term\n",
    "# ii) Reduce -> Reduce by prev map's key, Output: ( (term,doc), TF)\n",
    "# iii) Map -> to help join in step 1 of TF-IDF, Output: ( (term, (doc,TF))  [= tf]"
   ]
  },
  {
   "cell_type": "code",
   "execution_count": null,
   "id": "54bfd18c-a1fb-4c80-983e-f4a2051f7bd4",
   "metadata": {},
   "outputs": [],
   "source": [
    "# IDF: defined independent of particular doc\n",
    "# i) Map -> Input: ( (term,doc), TF), Output: (term, 1) for every occurrence as (term,doc) pair is unique\n",
    "# ii) Reduce -> sums up the count of term and computes log (num of docs) / count of term, Output: (term, IDF) [= idf]"
   ]
  },
  {
   "cell_type": "code",
   "execution_count": null,
   "id": "3c164304-0655-438f-808c-98925cfeb9d1",
   "metadata": {},
   "outputs": [],
   "source": [
    "# TF-IDF: defined for a term in a particular doc\n",
    "# i) Join tf with idf on the key \"term\", Output: ( term, ( (doc,TF), IDF) )\n",
    "# ii) Map -> Output: ( (term, doc), TF-IDF)"
   ]
  }
 ],
 "metadata": {
  "kernelspec": {
   "display_name": "Python 3",
   "language": "python",
   "name": "python3"
  },
  "language_info": {
   "codemirror_mode": {
    "name": "ipython",
    "version": 3
   },
   "file_extension": ".py",
   "mimetype": "text/x-python",
   "name": "python",
   "nbconvert_exporter": "python",
   "pygments_lexer": "ipython3",
   "version": "3.8.8"
  }
 },
 "nbformat": 4,
 "nbformat_minor": 5
}
