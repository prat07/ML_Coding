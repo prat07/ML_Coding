{
 "cells": [
  {
   "cell_type": "code",
   "execution_count": 85,
   "id": "b25d5bae-afcc-488d-8076-afafc1040257",
   "metadata": {},
   "outputs": [],
   "source": [
    "import numpy as np\n",
    "\n",
    "# https://www.programiz.com/python-programming/numpy"
   ]
  },
  {
   "cell_type": "markdown",
   "id": "ff8bb05b-a1a3-456d-9057-9d06e0e64f01",
   "metadata": {},
   "source": [
    "### Create Numpy Arrays"
   ]
  },
  {
   "cell_type": "code",
   "execution_count": 4,
   "id": "9258cacc-c739-472e-9495-ddcc8fc5f560",
   "metadata": {},
   "outputs": [
    {
     "name": "stdout",
     "output_type": "stream",
     "text": [
      "Printing my_array:\n",
      "[[1 2 3 4]\n",
      " [5 6 7 8]]\n",
      "Printing my_2d_array:\n",
      "[[1 2 3 4]\n",
      " [5 6 7 8]]\n",
      "Printing my_3d_array:\n",
      "[[[ 1  2  3  4]\n",
      "  [ 5  6  7  8]]\n",
      "\n",
      " [[ 1  2  3  4]\n",
      "  [ 9 10 11 12]]]\n"
     ]
    }
   ],
   "source": [
    "# Define a 1D array\n",
    "my_array = np.array([[1, 2, 3, 4],\n",
    "                     [5, 6, 7, 8]])\n",
    "# Define a 2D array\n",
    "my_2d_array = np.array([[1, 2, 3, 4],\n",
    "                        [5, 6, 7, 8]],\n",
    "                       dtype=np.int64)\n",
    "# Define a 3D array\n",
    "my_3d_array = np.array([[[1, 2, 3, 4],\n",
    "                         [5, 6, 7, 8]],\n",
    "                        [[1, 2, 3, 4],\n",
    "                         [9, 10, 11, 12]]],\n",
    "                       dtype=np.int64)\n",
    "# Print the 1D array\n",
    "print(\"Printing my_array:\")\n",
    "print(my_array)\n",
    "# Print the 2D array\n",
    "print(\"Printing my_2d_array:\")\n",
    "print(my_2d_array)\n",
    "# Print the 3D array\n",
    "print(\"Printing my_3d_array:\")\n",
    "print(my_3d_array)\n",
    "\n",
    "# dtype param is optional"
   ]
  },
  {
   "cell_type": "markdown",
   "id": "27f58a89-276e-47b0-84ef-4279f040e5c2",
   "metadata": {},
   "source": [
    "### Special numpy arrays"
   ]
  },
  {
   "cell_type": "code",
   "execution_count": 9,
   "id": "df9abf4c-4cfe-4f20-abbb-119078550174",
   "metadata": {},
   "outputs": [
    {
     "name": "stdout",
     "output_type": "stream",
     "text": [
      "Ones Array:\n",
      "[[1. 1. 1. 1.]\n",
      " [1. 1. 1. 1.]\n",
      " [1. 1. 1. 1.]]\n",
      "\n",
      "Zeros Array:\n",
      "[[[0 0 0 0]\n",
      "  [0 0 0 0]\n",
      "  [0 0 0 0]]\n",
      "\n",
      " [[0 0 0 0]\n",
      "  [0 0 0 0]\n",
      "  [0 0 0 0]]]\n",
      "\n",
      "Random Array:\n",
      "[[0.59060228 0.45175797]\n",
      " [0.13610939 0.06753312]]\n",
      "\n",
      "Empty Array:\n",
      "[[0. 0.]\n",
      " [0. 0.]\n",
      " [0. 0.]]\n",
      "\n",
      "Arange Array:\n",
      "[10 15 20]\n",
      "\n"
     ]
    },
    {
     "data": {
      "text/plain": [
       "array([0.  , 0.25, 0.5 , 0.75, 1.  , 1.25, 1.5 , 1.75, 2.  ])"
      ]
     },
     "execution_count": 9,
     "metadata": {},
     "output_type": "execute_result"
    }
   ],
   "source": [
    "# Create an array of ones\n",
    "ones_array = np.ones((3, 4))\n",
    "print(\"Ones Array:\")\n",
    "print(ones_array)\n",
    "print()\n",
    "\n",
    "# Create an array of zeros\n",
    "zeros_array = np.zeros((2, 3, 4), dtype=np.int16)\n",
    "print(\"Zeros Array:\")\n",
    "print(zeros_array)\n",
    "print()\n",
    "\n",
    "# Create an array with random values\n",
    "random_array = np.random.random((2, 2)) #  half-open interval [0.0, 1.0)\n",
    "print(\"Random Array:\")\n",
    "print(random_array)\n",
    "print()\n",
    "\n",
    "# Create an empty array\n",
    "empty_array = np.empty((3, 2))\n",
    "print(\"Empty Array:\")\n",
    "print(empty_array)\n",
    "print()\n",
    "\n",
    "# Create an array of evenly-spaced values\n",
    "arange_array = np.arange(10, 25, 5)  # [start], stop, [step], half-open interval [0, stop), start and step are optional\n",
    "print(\"Arange Array:\")\n",
    "print(arange_array)\n",
    "print()\n",
    "\n",
    "# Create an array of evenly-spaced values\n",
    "# Returns 'num' evenly spaced samples, calculated over the interval [start, stop] ie. closed interval\n",
    "np.linspace(0,2,9) # start, stop and num of samples"
   ]
  },
  {
   "cell_type": "markdown",
   "id": "86628ab1-0f2c-49b5-851b-3a4731cc4bdb",
   "metadata": {},
   "source": [
    "### Inspect numpy arrays"
   ]
  },
  {
   "cell_type": "code",
   "execution_count": 7,
   "id": "941a6913-25a0-449c-b2a8-c635c54eea1d",
   "metadata": {},
   "outputs": [
    {
     "name": "stdout",
     "output_type": "stream",
     "text": [
      "Number of dimensions of my_array:\n",
      "2\n",
      "\n",
      "Number of elements in my_array:\n",
      "8\n",
      "\n",
      "Shape of my_array:\n",
      "(2, 4)\n",
      "\n"
     ]
    }
   ],
   "source": [
    "# Create a numpy array with shape (2,4) and dtype int64\n",
    "my_array = np.array([[1,2,3,4], [5,6,7,8]], dtype=np.int64)\n",
    "\n",
    "# Print the number of dimensions of `my_array`\n",
    "print(\"Number of dimensions of my_array:\")\n",
    "print(my_array.ndim)\n",
    "print()\n",
    "\n",
    "# Print the number of elements in `my_array`\n",
    "print(\"Number of elements in my_array:\")\n",
    "print(my_array.size)\n",
    "print()\n",
    "\n",
    "# Print the shape of array\n",
    "print(\"Shape of my_array:\")\n",
    "print(my_array.shape)\n",
    "print()\n",
    "\n",
    "# can deduce dimensions from shape"
   ]
  },
  {
   "cell_type": "code",
   "execution_count": 8,
   "id": "2b0eea56-6449-4f8d-963f-7b35cc14782c",
   "metadata": {},
   "outputs": [
    {
     "data": {
      "text/plain": [
       "(4,)"
      ]
     },
     "execution_count": 8,
     "metadata": {},
     "output_type": "execute_result"
    }
   ],
   "source": [
    "# Shape of 1d array\n",
    "my_array = np.array([1,2,3,4])\n",
    "my_array.shape"
   ]
  },
  {
   "cell_type": "markdown",
   "id": "15fc7f78-ca8a-4099-aeeb-4bb43d19947b",
   "metadata": {},
   "source": [
    "### Reshape, Transpose, Unique, Append, Flatten"
   ]
  },
  {
   "cell_type": "code",
   "execution_count": 11,
   "id": "46d1eab0-2adc-4768-b072-6cfd0f0bb124",
   "metadata": {},
   "outputs": [
    {
     "name": "stdout",
     "output_type": "stream",
     "text": [
      "Reshaped 2dArray:\n",
      "[[1 2]\n",
      " [3 4]\n",
      " [5 6]]\n",
      "Reshaped 1dArray:\n",
      "[1 2 3 4 5 6]\n"
     ]
    }
   ],
   "source": [
    "# old ndarray and new ndarray should have the same size ie. total number elements should be same\n",
    "a = np.array([1,2,3, 4,5,6])\n",
    "reshaped_2d_array = np.reshape(a, (3,2))\n",
    "print(\"Reshaped 2dArray:\")\n",
    "print(reshaped_2d_array)\n",
    "\n",
    "reshaped_1d_array = np.reshape(reshaped_2d_array, (6,))\n",
    "print(\"Reshaped 1dArray:\")\n",
    "print(reshaped_1d_array)"
   ]
  },
  {
   "cell_type": "code",
   "execution_count": 12,
   "id": "317cedab-12c3-4494-a311-ae7594edac5c",
   "metadata": {},
   "outputs": [
    {
     "name": "stdout",
     "output_type": "stream",
     "text": [
      "[[1 2 3 4]\n",
      " [5 6 7 8]]\n",
      "[[1 5]\n",
      " [2 6]\n",
      " [3 7]\n",
      " [4 8]]\n",
      "[[1 5]\n",
      " [2 6]\n",
      " [3 7]\n",
      " [4 8]]\n"
     ]
    }
   ],
   "source": [
    "my_2d_array = np.array([[1,2,3,4], [5,6,7,8]], dtype=np.int64)\n",
    "\n",
    "# Print `my_2d_array`\n",
    "print(my_2d_array)\n",
    "\n",
    "# Transpose `my_2d_array`\n",
    "print(np.transpose(my_2d_array))\n",
    "\n",
    "# Or use `T` to transpose `my_2d_array`\n",
    "print(my_2d_array.T)"
   ]
  },
  {
   "cell_type": "code",
   "execution_count": 21,
   "id": "773f8d6f-adfc-446a-a53d-7ede34e1e208",
   "metadata": {},
   "outputs": [
    {
     "name": "stdout",
     "output_type": "stream",
     "text": [
      "[1 2 3]\n",
      "[1 2 3 4]\n"
     ]
    }
   ],
   "source": [
    "# Returns unique elements of ndarray\n",
    "unique_1d_array = np.unique([1, 1, 2, 2, 3, 3])\n",
    "print(unique_1d_array)\n",
    "\n",
    "unique_2d_array = np.unique([[1, 1], [2, 4], [3, 3]]) # if axis is not specified, nd array is flattened\n",
    "print(unique_2d_array)"
   ]
  },
  {
   "cell_type": "code",
   "execution_count": 22,
   "id": "86262682-0acd-4995-a965-8db30c88e72d",
   "metadata": {},
   "outputs": [
    {
     "data": {
      "text/plain": [
       "array([[1, 0, 0],\n",
       "       [2, 3, 4]])"
      ]
     },
     "execution_count": 22,
     "metadata": {},
     "output_type": "execute_result"
    }
   ],
   "source": [
    "# Return the unique rows of a nd array\n",
    "a = np.array([[1, 0, 0], [1, 0, 0], [2, 3, 4]])\n",
    "np.unique(a, axis=0)  # axis = 1 returns unique columns of a 2d array"
   ]
  },
  {
   "cell_type": "code",
   "execution_count": 16,
   "id": "e83ccdc2-8b44-4bb6-9061-688dc5c35f84",
   "metadata": {},
   "outputs": [
    {
     "name": "stdout",
     "output_type": "stream",
     "text": [
      "[1 2 3 4 6]\n",
      "[1 3 1 1 1]\n"
     ]
    }
   ],
   "source": [
    "# Returns unique elements along with counts\n",
    "a = np.array([1, 2, 6, 4, 2, 3, 2])\n",
    "values, counts = np.unique(a, return_counts=True)\n",
    "print(values)\n",
    "print(counts)"
   ]
  },
  {
   "cell_type": "code",
   "execution_count": 17,
   "id": "40065acf-d38f-4829-9179-a2661c9db381",
   "metadata": {},
   "outputs": [
    {
     "name": "stdout",
     "output_type": "stream",
     "text": [
      "['a' 'b' 'c']\n",
      "[0 1 3]\n",
      "['a' 'b' 'c']\n"
     ]
    }
   ],
   "source": [
    "# Return the indices of the original array that give the unique values:\n",
    "a = np.array(['a', 'b', 'b', 'c', 'a'])\n",
    "u, indices = np.unique(a, return_index=True)\n",
    "print(u)\n",
    "print(indices)\n",
    "print(a[indices])"
   ]
  },
  {
   "cell_type": "code",
   "execution_count": 23,
   "id": "1e9e4361-ddda-448e-bc88-345e68cb8746",
   "metadata": {},
   "outputs": [
    {
     "name": "stdout",
     "output_type": "stream",
     "text": [
      "my_array before appending: [1 2 3 4]\n",
      "new_array: [ 1  2  3  4  7  8  9 10]\n"
     ]
    }
   ],
   "source": [
    "my_array = np.array([1,2,3,4])\n",
    "\n",
    "# Print `my_array` before appending\n",
    "print(\"my_array before appending:\", my_array)\n",
    "\n",
    "# Append a 1D array to `my_array`\n",
    "new_array = np.append(my_array, [7, 8, 9, 10])\n",
    "\n",
    "# Print `new_array`\n",
    "print(\"new_array:\", new_array)"
   ]
  },
  {
   "cell_type": "code",
   "execution_count": 24,
   "id": "4dbc37ca-80f9-469c-8b9a-2ab771eefe0a",
   "metadata": {},
   "outputs": [
    {
     "name": "stdout",
     "output_type": "stream",
     "text": [
      "my_2d_array before appending:\n",
      " [[1 2 3 4]\n",
      " [5 6 7 8]]\n",
      "new_2d_array:\n",
      " [[1 2 3 4 7]\n",
      " [5 6 7 8 8]]\n"
     ]
    }
   ],
   "source": [
    "my_2d_array = np.array([[1,2,3,4], [5,6,7,8]], dtype=np.int64)\n",
    "\n",
    "# Print `my_2d_array` before appending\n",
    "print(\"my_2d_array before appending:\\n\", my_2d_array)\n",
    "\n",
    "# Append an extra column to `my_2d_array`\n",
    "new_2d_array = np.append(my_2d_array, [[7], [8]], axis=1) # if axis = 0, append extra row\n",
    "\n",
    "# Print `new_2d_array`\n",
    "print(\"new_2d_array:\\n\", new_2d_array)"
   ]
  },
  {
   "cell_type": "code",
   "execution_count": 25,
   "id": "1594a966-2e77-4597-a58c-fd43a5993b6a",
   "metadata": {},
   "outputs": [
    {
     "name": "stdout",
     "output_type": "stream",
     "text": [
      "[1. 2. 3. 4. 1. 1. 1. 1.]\n"
     ]
    }
   ],
   "source": [
    "x = np.ones((4,))\n",
    "my_array = np.array([1,2,3,4])\n",
    "# Concatenate `my_array` and `x`\n",
    "print(np.concatenate((my_array,x)))"
   ]
  },
  {
   "cell_type": "code",
   "execution_count": 27,
   "id": "60670f5b-455c-4010-8dcd-e701189952ab",
   "metadata": {},
   "outputs": [
    {
     "name": "stdout",
     "output_type": "stream",
     "text": [
      "[[1 2]\n",
      " [3 4]\n",
      " [5 6]]\n",
      "[[1 2 5]\n",
      " [3 4 6]]\n",
      "[1 2 3 4 5 6]\n"
     ]
    }
   ],
   "source": [
    "# nd arrays must be compatible along the axis we want to concatenate\n",
    "a = np.array([[1, 2], [3, 4]])\n",
    "b = np.array([[5, 6]])\n",
    "\n",
    "print(np.concatenate((a, b), axis=0)) # row wise\n",
    "print(np.concatenate((a, b.T), axis=1)) # column wise\n",
    "print(np.concatenate((a, b), axis=None)) # flattens and concatenates"
   ]
  },
  {
   "cell_type": "code",
   "execution_count": 31,
   "id": "f5a6ccc6-2ff7-4d49-a810-772846d2e4c2",
   "metadata": {},
   "outputs": [
    {
     "data": {
      "text/plain": [
       "array([1, 2, 3, 4])"
      ]
     },
     "execution_count": 31,
     "metadata": {},
     "output_type": "execute_result"
    }
   ],
   "source": [
    "a = np.array([[1, 2], [3, 4]])\n",
    "a.flatten() # np.flatten(a) does not work"
   ]
  },
  {
   "cell_type": "markdown",
   "id": "67889b26-e42a-4762-b4f4-64e312194b77",
   "metadata": {},
   "source": [
    "### Indexing and Slicing"
   ]
  },
  {
   "cell_type": "code",
   "execution_count": 34,
   "id": "4245566b-16c3-4f7e-8df8-99dbb307e5e5",
   "metadata": {},
   "outputs": [
    {
     "name": "stdout",
     "output_type": "stream",
     "text": [
      "9\n",
      "7\n"
     ]
    }
   ],
   "source": [
    "# NumPy Negative Array Indexing\n",
    "\n",
    "# NumPy allows negative indexing for its array. The index of -1 refers to the last item, -2 to the second last item and so on.\n",
    "numbers = np.array([1, 3, 5, 7, 9])\n",
    "\n",
    "# access the last element\n",
    "print(numbers[-1])    # prints 9\n",
    "\n",
    "# access the second-to-last element\n",
    "print(numbers[-2])    # prints 7\n"
   ]
  },
  {
   "cell_type": "code",
   "execution_count": 35,
   "id": "68c77a8b-b209-453a-b737-39430657cb50",
   "metadata": {},
   "outputs": [
    {
     "name": "stdout",
     "output_type": "stream",
     "text": [
      "After modifying first element: [12  4  6  8 10]\n"
     ]
    }
   ],
   "source": [
    "# Modify Array Elements Using Index\n",
    "\n",
    "# create a numpy array\n",
    "numbers = np.array([2, 4, 6, 8, 10])\n",
    "\n",
    "# change the value of the first element\n",
    "numbers[0] = 12\n",
    "print(\"After modifying first element:\",numbers)"
   ]
  },
  {
   "cell_type": "code",
   "execution_count": 37,
   "id": "7fc27434-924f-4fd8-b4ac-3b616350a3e0",
   "metadata": {},
   "outputs": [
    {
     "name": "stdout",
     "output_type": "stream",
     "text": [
      "4th Element at 2nd Row: 15\n"
     ]
    }
   ],
   "source": [
    "# Indexing\n",
    "\n",
    "# create a 2D array \n",
    "array1 = np.array([[1, 3, 5, 7], \n",
    "                       [9, 11, 13, 15],\n",
    "                       [2, 4, 6, 8]])\n",
    "\n",
    "\n",
    "# access the element at the second row and fourth column\n",
    "element1 = array1[1, 3] \n",
    "print(\"4th Element at 2nd Row:\",element1)  "
   ]
  },
  {
   "cell_type": "code",
   "execution_count": 40,
   "id": "c0effd73-4cdf-4639-b6cb-1691fa82fd1d",
   "metadata": {},
   "outputs": [
    {
     "name": "stdout",
     "output_type": "stream",
     "text": [
      "Second Row: [7 9 2]\n",
      "Third Column: [5 2 8]\n",
      "First two row elements of third column [5 2]\n"
     ]
    }
   ],
   "source": [
    "# Indexing\n",
    "\n",
    "# create a 2D array \n",
    "array1 = np.array([[1, 3, 5], \n",
    "             [7, 9, 2], \n",
    "             [4, 6, 8]])\n",
    "\n",
    "# access the second row of the array\n",
    "second_row = array1[1, :]\n",
    "print(\"Second Row:\", second_row)  \n",
    "\n",
    "# access the third column of the array\n",
    "third_col = array1[:, 2]\n",
    "print(\"Third Column:\", third_col)  \n",
    "\n",
    "# access first two row elements of third column\n",
    "first_two_elements_third_col = array1[0:2, 2]\n",
    "print(\"First two row elements of third column\", first_two_elements_third_col)"
   ]
  },
  {
   "cell_type": "code",
   "execution_count": 41,
   "id": "dbd5a3f5-c149-4e2d-9f0e-5468aa588800",
   "metadata": {},
   "outputs": [
    {
     "name": "stdout",
     "output_type": "stream",
     "text": [
      "[5 7 8 9]\n",
      "[1 5 8 2]\n",
      "[7 8 9 2 4 6]\n",
      "[1 3 5 7 8 9 2 4 6]\n"
     ]
    }
   ],
   "source": [
    "# Slicing: 1D array\n",
    "# array[start:stop:step]  Stop position is not included\n",
    "\n",
    "# If we omit start, slicing starts from the first element\n",
    "# If we omit stop, slicing continues up to the last element\n",
    "# If we omit step, default step size is 1\n",
    "\n",
    "\n",
    "# create a 1D array \n",
    "array1 = np.array([1, 3, 5, 7, 8, 9, 2, 4, 6])\n",
    "\n",
    "# slice array1 from index 2 to index 6 (exclusive)\n",
    "print(array1[2:6])  # [5 7 8 9]\n",
    "\n",
    "# slice array1 from index 0 to index 8 (exclusive) with a step size of 2\n",
    "print(array1[0:8:2])  # [1 5 8 2]\n",
    "\n",
    "# slice array1 from index 3 up to the last element\n",
    "print(array1[3:])  # [7 8 9 2 4 6]\n",
    "\n",
    "# items from start to end\n",
    "print(array1[:])   # [1 3 5 7 8 9 2 4 6]"
   ]
  },
  {
   "cell_type": "code",
   "execution_count": 42,
   "id": "1e54e456-c568-4697-a860-051fecc36ad7",
   "metadata": {},
   "outputs": [
    {
     "name": "stdout",
     "output_type": "stream",
     "text": [
      "First Two Rows and Columns: \n",
      " [[ 1  3]\n",
      " [ 9 11]]\n",
      "Last two Rows and Columns: \n",
      " [[13 15]\n",
      " [ 6  8]]\n"
     ]
    }
   ],
   "source": [
    "# Slicing: 2D array\n",
    "# array[row_start:row_stop:row_step, col_start:col_stop:col_step]\n",
    "\n",
    "# create a 2D array \n",
    "array1 = np.array([[1, 3, 5, 7], \n",
    "                      [9, 11, 13, 15],\n",
    "                      [2, 4, 6, 8]])\n",
    "\n",
    "\n",
    "# slice the array to get the first two rows and columns\n",
    "subarray1 = array1[:2, :2]\n",
    "\n",
    "# slice the array to get the last two rows and columns\n",
    "subarray2 = array1[1:3, 2:4]\n",
    "\n",
    "# print the subarrays\n",
    "print(\"First Two Rows and Columns: \\n\",subarray1)\n",
    "print(\"Last two Rows and Columns: \\n\",subarray2)"
   ]
  },
  {
   "cell_type": "markdown",
   "id": "396acb76-832b-478d-a7ee-e888233303a4",
   "metadata": {},
   "source": [
    "### Math Functions"
   ]
  },
  {
   "cell_type": "markdown",
   "id": "84c12848-851c-42b1-8ba4-3a7a47886a81",
   "metadata": {},
   "source": [
    "#### Aggregate Functions"
   ]
  },
  {
   "cell_type": "code",
   "execution_count": 43,
   "id": "fe3754c8-a04c-433a-920c-08547ce57293",
   "metadata": {},
   "outputs": [
    {
     "data": {
      "text/plain": [
       "10"
      ]
     },
     "execution_count": 43,
     "metadata": {},
     "output_type": "execute_result"
    }
   ],
   "source": [
    "np.sum([1,2,3,4])"
   ]
  },
  {
   "cell_type": "code",
   "execution_count": 44,
   "id": "7d760d5e-2658-4e3c-975a-fbc99671b0e6",
   "metadata": {},
   "outputs": [
    {
     "data": {
      "text/plain": [
       "6"
      ]
     },
     "execution_count": 44,
     "metadata": {},
     "output_type": "execute_result"
    }
   ],
   "source": [
    "np.sum([[0, 1], [0, 5]])"
   ]
  },
  {
   "cell_type": "code",
   "execution_count": 45,
   "id": "32067ed1-cdf9-4b3e-b475-d577d19210bc",
   "metadata": {},
   "outputs": [
    {
     "data": {
      "text/plain": [
       "array([0, 6])"
      ]
     },
     "execution_count": 45,
     "metadata": {},
     "output_type": "execute_result"
    }
   ],
   "source": [
    "np.sum([[0, 1], [0, 5]], axis=0) # column-wise"
   ]
  },
  {
   "cell_type": "code",
   "execution_count": 46,
   "id": "7fb552f4-af0e-4b33-93e3-41cd1e88ace8",
   "metadata": {},
   "outputs": [
    {
     "data": {
      "text/plain": [
       "array([1, 5])"
      ]
     },
     "execution_count": 46,
     "metadata": {},
     "output_type": "execute_result"
    }
   ],
   "source": [
    "np.sum([[0, 1], [0, 5]], axis=1) # row-wise"
   ]
  },
  {
   "cell_type": "code",
   "execution_count": null,
   "id": "2a553e71-4776-4c82-9ba1-4f0f21e1adf7",
   "metadata": {},
   "outputs": [],
   "source": []
  },
  {
   "cell_type": "code",
   "execution_count": 47,
   "id": "c2965c9d-2725-4f3a-942f-925a67aa333b",
   "metadata": {},
   "outputs": [
    {
     "data": {
      "text/plain": [
       "4"
      ]
     },
     "execution_count": 47,
     "metadata": {},
     "output_type": "execute_result"
    }
   ],
   "source": [
    "np.max([1,2,3,4])"
   ]
  },
  {
   "cell_type": "code",
   "execution_count": 48,
   "id": "d0391bd6-441f-4cbb-afa1-2f852e5c4df6",
   "metadata": {},
   "outputs": [
    {
     "data": {
      "text/plain": [
       "array([0, 5])"
      ]
     },
     "execution_count": 48,
     "metadata": {},
     "output_type": "execute_result"
    }
   ],
   "source": [
    "np.max([[0, 1], [0, 5]], axis=0) #column-wise"
   ]
  },
  {
   "cell_type": "code",
   "execution_count": 49,
   "id": "44014d5b-28c3-4861-95d4-28e62c8fbfde",
   "metadata": {},
   "outputs": [
    {
     "data": {
      "text/plain": [
       "array([1, 5])"
      ]
     },
     "execution_count": 49,
     "metadata": {},
     "output_type": "execute_result"
    }
   ],
   "source": [
    "np.max([[0, 1], [0, 5]], axis=1) # row-wise"
   ]
  },
  {
   "cell_type": "code",
   "execution_count": 53,
   "id": "41505d90-149d-4154-8b2c-3d6f7a86df6b",
   "metadata": {},
   "outputs": [
    {
     "name": "stdout",
     "output_type": "stream",
     "text": [
      "Median along horizontal axis : [ 4. 10. 16.]\n",
      "Median along vertical axis: [ 8. 10. 12.]\n",
      "Median of entire array: 10.0\n"
     ]
    }
   ],
   "source": [
    "# create a 2D array\n",
    "array1 = np.array([[2, 4, 6], \n",
    "                   [8, 10, 12], \n",
    "                   [14, 16, 18]])\n",
    "\n",
    "# compute median along horizontal axis \n",
    "result1 = np.median(array1, axis=1)\n",
    "\n",
    "print(\"Median along horizontal axis :\", result1)\n",
    "\n",
    "# compute median along vertical axis\n",
    "result2 = np.median(array1, axis=0)\n",
    "\n",
    "print(\"Median along vertical axis:\", result2)\n",
    "\n",
    "# compute median of entire array\n",
    "result3 = np.median(array1)\n",
    "\n",
    "print(\"Median of entire array:\", result3)"
   ]
  },
  {
   "cell_type": "raw",
   "id": "212f6a5f-39c5-4f10-a740-d6d720cf39cf",
   "metadata": {},
   "source": [
    "np.min(), np.mean(), np.median(), np.std(), np.var()"
   ]
  },
  {
   "cell_type": "code",
   "execution_count": null,
   "id": "f793bd98-13d7-4773-a7a7-c65dafeb8dc0",
   "metadata": {},
   "outputs": [],
   "source": []
  },
  {
   "cell_type": "markdown",
   "id": "9bffc7ba-18dd-4286-899f-88c4cb6525bc",
   "metadata": {},
   "source": [
    "#### Array functions (element-wise operations on array)"
   ]
  },
  {
   "cell_type": "code",
   "execution_count": 51,
   "id": "1c90721f-c096-4cfe-abeb-f0ba8e328cd9",
   "metadata": {},
   "outputs": [
    {
     "name": "stdout",
     "output_type": "stream",
     "text": [
      "\n",
      "Sum of arrays:\n",
      " [ 5 11 19 29 41]\n",
      "\n",
      "Difference of arrays:\n",
      " [ -3  -7 -13 -21 -31]\n",
      "\n",
      "Square root of second array:\n",
      " [2. 3. 4. 5. 6.]\n"
     ]
    }
   ],
   "source": [
    "# create two arrays\n",
    "array1 = np.array([1, 2, 3, 4, 5])\n",
    "array2 = np.array([4, 9, 16, 25, 36])\n",
    "\n",
    "# add the two arrays element-wise\n",
    "arr_sum = np.add(array1, array2)\n",
    "\n",
    "# subtract the array2 from array1 element-wise\n",
    "arr_diff = np.subtract(array1, array2)\n",
    "\n",
    "# compute square root of array2 element-wise\n",
    "arr_sqrt = np.sqrt(array2)\n",
    "\n",
    "\n",
    "print(\"\\nSum of arrays:\\n\", arr_sum)\n",
    "print(\"\\nDifference of arrays:\\n\", arr_diff)\n",
    "print(\"\\nSquare root of second array:\\n\", arr_sqrt)"
   ]
  },
  {
   "cell_type": "code",
   "execution_count": 52,
   "id": "2f30c6cb-fbda-4e08-a595-fa61dddc6099",
   "metadata": {},
   "outputs": [
    {
     "name": "stdout",
     "output_type": "stream",
     "text": [
      "Using the ** operator: [1 4 9]\n",
      "Using the power() function: [1 4 9]\n"
     ]
    }
   ],
   "source": [
    "array1 = np.array([1, 2, 3])\n",
    "\n",
    "# using the ** operator\n",
    "result1 = array1 ** 2\n",
    "print(\"Using the ** operator:\",result1) \n",
    "\n",
    "# using the power() function\n",
    "result2 = np.power(array1, 2)\n",
    "print(\"Using the power() function:\",result2) "
   ]
  },
  {
   "cell_type": "raw",
   "id": "5bed04db-18fd-4a72-9266-e716e3376fab",
   "metadata": {},
   "source": [
    "np.add(), np.subtract(), np.multiply, np.divide(), np.sqrt(), np.power(), np.log(), np.exp()"
   ]
  },
  {
   "cell_type": "markdown",
   "id": "195c88f4-75e7-4554-a066-fd2ed81c5936",
   "metadata": {},
   "source": [
    "### Boolean masking"
   ]
  },
  {
   "cell_type": "code",
   "execution_count": 57,
   "id": "b85e0562-6634-4303-bc66-287e11f43c7c",
   "metadata": {},
   "outputs": [
    {
     "name": "stdout",
     "output_type": "stream",
     "text": [
      "[False  True False  True  True  True False False]\n",
      "[24 21 32 29]\n"
     ]
    }
   ],
   "source": [
    "array1 = np.array([12, 24, 16, 21, 32, 29, 7, 15])\n",
    "boolean_mask = array1 > 20\n",
    "print(boolean_mask)\n",
    "print(array1[boolean_mask])"
   ]
  },
  {
   "cell_type": "code",
   "execution_count": 59,
   "id": "2d4b7120-e969-4049-a926-4079c53fdc19",
   "metadata": {},
   "outputs": [
    {
     "name": "stdout",
     "output_type": "stream",
     "text": [
      "[[False False False]\n",
      " [ True  True  True]\n",
      " [ True  True  True]]\n",
      "[14 19 21 25 29 35]\n"
     ]
    }
   ],
   "source": [
    "# create a 2D  array\n",
    "array1 = np.array([[1, 7, 9], \n",
    "                    [14, 19, 21], \n",
    "                    [25, 29, 35]])\n",
    "\n",
    "# create a boolean mask based on the condition \n",
    "# that elements are greater than 9\n",
    "boolean_mask = array1 > 9\n",
    "print(boolean_mask)\n",
    "\n",
    "# select only the elements that satisfy the condition\n",
    "result = array1[boolean_mask]\n",
    "\n",
    "print(result)\n",
    "# returns a flattened 1D array containing only the elements that satisfy the condition\n"
   ]
  },
  {
   "cell_type": "markdown",
   "id": "2fbb671c-ee71-4f42-85be-d3c38ee67b95",
   "metadata": {},
   "source": [
    "### Argmax, Argmin, Argsort and sort"
   ]
  },
  {
   "cell_type": "code",
   "execution_count": 66,
   "id": "c11da80b-0d17-4dd7-b7c1-f4ed7d3bec3b",
   "metadata": {},
   "outputs": [
    {
     "name": "stdout",
     "output_type": "stream",
     "text": [
      "Argmax of 1d array\n",
      "3\n"
     ]
    }
   ],
   "source": [
    "my_array = np.array([4,5,6,10,3,2,1])\n",
    "print(\"Argmax of 1d array\")\n",
    "print(np.argmax(my_array))"
   ]
  },
  {
   "cell_type": "code",
   "execution_count": 67,
   "id": "5a6b5975-15b2-4bb6-90d6-0cce9190e84d",
   "metadata": {},
   "outputs": [
    {
     "name": "stdout",
     "output_type": "stream",
     "text": [
      "Argmax of 2d array with axis value not specified\n",
      "4\n",
      "Argmax of 2d array with axis=0\n",
      "[0 1 0]\n",
      "Argmax of 2d array with axis=1\n",
      "[2 1]\n"
     ]
    }
   ],
   "source": [
    "my_2d_array = np.array([[4,3,8], [1,9,7]])\n",
    "\n",
    "print(\"Argmax of 2d array with axis=0\") # column wise\n",
    "print(np.argmax(my_2d_array, axis = 0))\n",
    "print(\"Argmax of 2d array with axis=1\") # row wise\n",
    "print(np.argmax(my_2d_array, axis = 1))"
   ]
  },
  {
   "cell_type": "code",
   "execution_count": 76,
   "id": "66cafc45-386d-4391-b79b-7da94f6d8c2b",
   "metadata": {},
   "outputs": [
    {
     "name": "stdout",
     "output_type": "stream",
     "text": [
      "Argmax of 2d array with axis value = None\n",
      "4\n",
      "Index in 2d format\n",
      "(1, 1)\n",
      "Element corresponding to Index\n",
      "9\n"
     ]
    }
   ],
   "source": [
    "# To find index of maximum element in 2d array\n",
    "my_2d_array = np.array([[4,3,8], [1,9,7]])\n",
    "print(\"Argmax of 2d array with axis value = None\") # flattens array\n",
    "print(np.argmax(my_2d_array, axis = None))\n",
    "\n",
    "# To find the index in 2d format\n",
    "ind = np.unravel_index(np.argmax(my_2d_array, axis = None), my_2d_array.shape)\n",
    "print(\"Index in 2d format\")\n",
    "print(ind)\n",
    "print(\"Element corresponding to Index\")\n",
    "print(my_2d_array[ind])"
   ]
  },
  {
   "cell_type": "raw",
   "id": "0c6a3b5d-5539-4044-9e2e-a5c1da7e0b4e",
   "metadata": {},
   "source": [
    "Same for argmin"
   ]
  },
  {
   "cell_type": "code",
   "execution_count": 72,
   "id": "c2a7988b-6db5-4669-b4e1-612a154043c1",
   "metadata": {},
   "outputs": [
    {
     "data": {
      "text/plain": [
       "array([0, 2, 1, 4, 3])"
      ]
     },
     "execution_count": 72,
     "metadata": {},
     "output_type": "execute_result"
    }
   ],
   "source": [
    "a = np.array([1,3,2,6,4])\n",
    "np.argsort(a)"
   ]
  },
  {
   "cell_type": "code",
   "execution_count": 96,
   "id": "6f9c5a6d-93f2-4ba1-a0ff-cf57a67f96ed",
   "metadata": {},
   "outputs": [
    {
     "data": {
      "text/plain": [
       "array([3, 4, 1, 2, 0])"
      ]
     },
     "execution_count": 96,
     "metadata": {},
     "output_type": "execute_result"
    }
   ],
   "source": [
    "a = np.array([1,3,2,6,4])\n",
    "np.flip(np.argsort(a)) # argsort in descending order"
   ]
  },
  {
   "cell_type": "code",
   "execution_count": 74,
   "id": "fe363c50-9f0b-440f-99cc-ea902f0b9fbf",
   "metadata": {},
   "outputs": [
    {
     "data": {
      "text/plain": [
       "array([[1, 0],\n",
       "       [0, 1],\n",
       "       [1, 0]])"
      ]
     },
     "execution_count": 74,
     "metadata": {},
     "output_type": "execute_result"
    }
   ],
   "source": [
    "a = np.array([[2,1], [3,4], [6,5]])\n",
    "np.argsort(a, axis = 1) # row wise"
   ]
  },
  {
   "cell_type": "code",
   "execution_count": 75,
   "id": "c35ef552-92d7-481f-ab2f-7a103460bd4f",
   "metadata": {},
   "outputs": [
    {
     "data": {
      "text/plain": [
       "array([[0, 0],\n",
       "       [1, 1],\n",
       "       [2, 2]])"
      ]
     },
     "execution_count": 75,
     "metadata": {},
     "output_type": "execute_result"
    }
   ],
   "source": [
    "a = np.array([[2,1], [3,4], [6,5]])\n",
    "np.argsort(a, axis = 0) # column wise"
   ]
  },
  {
   "cell_type": "code",
   "execution_count": 73,
   "id": "2cee29dd-4e98-4633-8b77-c9e5b8ddfdfc",
   "metadata": {},
   "outputs": [
    {
     "data": {
      "text/plain": [
       "array([1, 0, 2, 3, 5, 4])"
      ]
     },
     "execution_count": 73,
     "metadata": {},
     "output_type": "execute_result"
    }
   ],
   "source": [
    "# 2d array \n",
    "a = np.array([[2,1], [3,4], [6,5]])\n",
    "np.argsort(a, axis = None) # flattens the array and then sorts if axis = None "
   ]
  },
  {
   "cell_type": "code",
   "execution_count": 79,
   "id": "e797f15c-be48-4d86-a466-feb4645ae76b",
   "metadata": {},
   "outputs": [
    {
     "name": "stdout",
     "output_type": "stream",
     "text": [
      "(array([0, 0, 1, 1, 2, 2]), array([1, 0, 0, 1, 1, 0]))\n",
      "[1 2 3 4 5 6]\n"
     ]
    }
   ],
   "source": [
    "# To find index in 2d format\n",
    "ind = np.unravel_index(a.argsort(axis=None), a.shape)\n",
    "print(ind)\n",
    "# first element = first array's index and second array's index = [0,1]\n",
    "print(a[ind])\n",
    "# sorted elements"
   ]
  },
  {
   "cell_type": "code",
   "execution_count": null,
   "id": "97aef33b-0cff-41ec-bf73-602ad7c615ff",
   "metadata": {},
   "outputs": [],
   "source": []
  },
  {
   "cell_type": "code",
   "execution_count": 82,
   "id": "3f7b09ff-5fc5-44f1-960c-d73d8b4c9873",
   "metadata": {},
   "outputs": [
    {
     "name": "stdout",
     "output_type": "stream",
     "text": [
      "[1 1 3 4]\n",
      "[[1 1]\n",
      " [3 4]]\n",
      "[[1 4]\n",
      " [1 3]]\n"
     ]
    }
   ],
   "source": [
    "a = np.array([[1,4],[3,1]])\n",
    "print(np.sort(a, axis = None)) # flattens \n",
    "print(np.sort(a, axis = 0))\n",
    "print(np.sort(a, axis = 1))\n",
    "\n",
    "# Note sort() in numpy does not have reverse argument unlike python"
   ]
  },
  {
   "cell_type": "markdown",
   "id": "295893b7-2a42-4586-a99f-616e57ab0adc",
   "metadata": {},
   "source": [
    "### Linear Algebra"
   ]
  },
  {
   "cell_type": "code",
   "execution_count": null,
   "id": "261579a1-7595-43b7-a047-693e7e64a691",
   "metadata": {},
   "outputs": [],
   "source": [
    "array1 = np.array([1, 3, 5])\n",
    "array2 = np.array([2, 4, 6])\n",
    "\n",
    "# use of dot() to perform array multiplication\n",
    "result = np.dot(array1, array2)\n",
    "\n",
    "print(result)\n",
    "\n",
    "# 1*2 + 3*4 + 5*6 = 44\n"
   ]
  },
  {
   "cell_type": "code",
   "execution_count": 83,
   "id": "1975e29b-5154-4aa4-b1db-b258b97f3238",
   "metadata": {},
   "outputs": [
    {
     "name": "stdout",
     "output_type": "stream",
     "text": [
      "[[-1.11111111 -0.11111111  0.72222222]\n",
      " [ 0.88888889  0.22222222 -0.61111111]\n",
      " [-0.11111111 -0.11111111  0.22222222]]\n"
     ]
    }
   ],
   "source": [
    "# create a 3x3 square matrix\n",
    "matrix1 = np.array([[1, 3, 5], \n",
    "             \t\t[7, 9, 2],\n",
    "                    [4, 6, 8]])\n",
    "\n",
    "# find inverse of matrix1\n",
    "result = np.linalg.inv(matrix1)\n",
    "\n",
    "print(result)"
   ]
  },
  {
   "cell_type": "code",
   "execution_count": 84,
   "id": "13c5cd44-1d9d-4f61-9f09-10016ad92c09",
   "metadata": {},
   "outputs": [
    {
     "name": "stdout",
     "output_type": "stream",
     "text": [
      "-4.999999999999999\n"
     ]
    }
   ],
   "source": [
    "# create a matrix\n",
    "matrix1 = np.array([[1, 2, 3], \n",
    "             \t\t[4, 5, 1],\n",
    "                    [2, 3, 4]])\n",
    "\n",
    "# find determinant of matrix1\n",
    "result = np.linalg.det(matrix1)\n",
    "\n",
    "print(result)"
   ]
  },
  {
   "cell_type": "code",
   "execution_count": null,
   "id": "3bb0dc45-305c-44cc-8cd9-ebe1d1fa1549",
   "metadata": {},
   "outputs": [],
   "source": []
  },
  {
   "cell_type": "markdown",
   "id": "773fef70-466b-434d-9690-fab46d235eff",
   "metadata": {},
   "source": [
    "### Broadcasting"
   ]
  },
  {
   "cell_type": "raw",
   "id": "0567fe31-7e40-483e-902f-dbc8c94c8816",
   "metadata": {},
   "source": [
    "In NumPy, we can perform mathematical operations on arrays of different shapes. \n",
    "An array with a smaller shape is expanded to match the shape of a larger one"
   ]
  },
  {
   "cell_type": "code",
   "execution_count": 91,
   "id": "5aa20b78-53d0-4166-880e-4149a8bb5319",
   "metadata": {},
   "outputs": [
    {
     "name": "stdout",
     "output_type": "stream",
     "text": [
      "[6 7 8]\n"
     ]
    }
   ],
   "source": [
    "# 1-D array\n",
    "array1 = np.array([1, 2, 3])\n",
    "\n",
    "# scalar\n",
    "number = 5\n",
    "\n",
    "# add scalar and 1-D array\n",
    "sum = array1 + number\n",
    "\n",
    "print(sum)"
   ]
  },
  {
   "cell_type": "code",
   "execution_count": 92,
   "id": "d0a5a24b-7521-4110-8614-c64300502ac9",
   "metadata": {},
   "outputs": [
    {
     "name": "stdout",
     "output_type": "stream",
     "text": [
      "[ 5 10 15]\n"
     ]
    }
   ],
   "source": [
    "# 1-D array\n",
    "array1 = np.array([1, 2, 3])\n",
    "\n",
    "# scalar\n",
    "number = 5\n",
    "\n",
    "# multiply scalar and 1-D array\n",
    "mul = array1 * number\n",
    "\n",
    "print(mul)"
   ]
  },
  {
   "cell_type": "raw",
   "id": "a242187c-ad64-4b79-aa76-42d6ed7333c7",
   "metadata": {},
   "source": [
    "Similarly, we can substract (-) and divide (/) numpy arrays with scalars"
   ]
  },
  {
   "cell_type": "markdown",
   "id": "a90e04ae-92ce-4777-b09a-3fb553f88909",
   "metadata": {},
   "source": [
    "### Vectorization"
   ]
  },
  {
   "cell_type": "raw",
   "id": "b0fba8a5-65a1-46d9-9bfa-2f9224bf3ea1",
   "metadata": {},
   "source": [
    "Vectorization refers to performing element-wise operations on arrays"
   ]
  },
  {
   "cell_type": "code",
   "execution_count": 95,
   "id": "28abe01f-153d-449e-9c72-ef74ec152ee0",
   "metadata": {},
   "outputs": [
    {
     "name": "stdout",
     "output_type": "stream",
     "text": [
      "Sum between two arrays(element-wise):\n",
      " [[1 3 5]\n",
      " [4 6 8]]\n",
      "Substraction between two arrays(element-wise):\n",
      " [[1 1 1]\n",
      " [4 4 4]]\n",
      "Multiplication between two arrays(element-wise):\n",
      " [[ 0  2  6]\n",
      " [ 0  5 12]]\n"
     ]
    }
   ],
   "source": [
    "# define two 2D arrays\n",
    "array1 = np.array([[1, 2, 3], [4, 5, 6]])\n",
    "array2 = np.array([[0, 1, 2], [0, 1, 2]])\n",
    "\n",
    "# add two arrays (vectorization)\n",
    "array_sum = array1 + array2\n",
    "array_substract = array1 - array2\n",
    "array_multiply = array1 * array2\n",
    "\n",
    "print(\"Sum between two arrays(element-wise):\\n\", array_sum)\n",
    "print(\"Substraction between two arrays(element-wise):\\n\", array_substract)\n",
    "print(\"Multiplication between two arrays(element-wise):\\n\", array_multiply)"
   ]
  },
  {
   "cell_type": "raw",
   "id": "3a691e7e-4e7c-47fa-8f92-1abf744b27fe",
   "metadata": {},
   "source": [
    "Vectorization is much faster than using \"for\" loop"
   ]
  },
  {
   "cell_type": "markdown",
   "id": "c416bba6-0457-486e-ab6f-9901813bf398",
   "metadata": {},
   "source": [
    "### List to Numpy Array and vice-versa"
   ]
  },
  {
   "cell_type": "code",
   "execution_count": 89,
   "id": "5d2a00f9-3a6a-4c3b-9ee5-f827463b3eec",
   "metadata": {},
   "outputs": [
    {
     "name": "stdout",
     "output_type": "stream",
     "text": [
      "<class 'list'>\n",
      "<class 'numpy.ndarray'>\n"
     ]
    }
   ],
   "source": [
    "a_list = [1,2,3,4]\n",
    "print(type(a_list))\n",
    "a_array = np.asarray(a_list) # or np.array(a_list)\n",
    "print(type(a_array))"
   ]
  },
  {
   "cell_type": "code",
   "execution_count": 90,
   "id": "19505bac-0ada-434f-8820-31e6fd3a7db2",
   "metadata": {},
   "outputs": [
    {
     "name": "stdout",
     "output_type": "stream",
     "text": [
      "<class 'numpy.ndarray'>\n",
      "<class 'list'>\n"
     ]
    }
   ],
   "source": [
    "a_array = np.array([1,2,3,4])\n",
    "print(type(a))\n",
    "a_list = a_array.tolist()\n",
    "print(type(a_list))"
   ]
  },
  {
   "cell_type": "code",
   "execution_count": null,
   "id": "7015cfa5-1344-4105-9627-1508f58e70ee",
   "metadata": {},
   "outputs": [],
   "source": []
  }
 ],
 "metadata": {
  "kernelspec": {
   "display_name": "Python 3",
   "language": "python",
   "name": "python3"
  },
  "language_info": {
   "codemirror_mode": {
    "name": "ipython",
    "version": 3
   },
   "file_extension": ".py",
   "mimetype": "text/x-python",
   "name": "python",
   "nbconvert_exporter": "python",
   "pygments_lexer": "ipython3",
   "version": "3.8.8"
  }
 },
 "nbformat": 4,
 "nbformat_minor": 5
}
