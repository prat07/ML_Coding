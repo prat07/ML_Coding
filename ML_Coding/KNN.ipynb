{
 "cells": [
  {
   "cell_type": "code",
   "execution_count": null,
   "id": "35c4bd7e-172b-4ac6-8bc5-deec36284b9c",
   "metadata": {},
   "outputs": [],
   "source": [
    "# KNN using Numpy (with class)\n",
    "# KNN with heap + cosine similarity (e.g. K closest points to Origin question on leetcode)\n",
    "# how to scale e.g. ANN"
   ]
  },
  {
   "cell_type": "code",
   "execution_count": 11,
   "id": "4a11e336-5abe-4495-81f8-100861b4b7a9",
   "metadata": {},
   "outputs": [
    {
     "data": {
      "text/plain": [
       "array([2, 1])"
      ]
     },
     "execution_count": 11,
     "metadata": {},
     "output_type": "execute_result"
    }
   ],
   "source": [
    "import numpy as np\n",
    "x = np.array([5,4,3,7])\n",
    "sorted_indices = np.argsort(x)[:2]\n",
    "sorted_indices"
   ]
  },
  {
   "cell_type": "code",
   "execution_count": 12,
   "id": "01f311c8-01b2-4335-828e-e581f61b7495",
   "metadata": {},
   "outputs": [
    {
     "data": {
      "text/plain": [
       "array([3, 4])"
      ]
     },
     "execution_count": 12,
     "metadata": {},
     "output_type": "execute_result"
    }
   ],
   "source": [
    "x[sorted_indices]"
   ]
  },
  {
   "cell_type": "code",
   "execution_count": null,
   "id": "7b1938b4-363d-461c-a96a-026e8b981384",
   "metadata": {},
   "outputs": [],
   "source": []
  },
  {
   "cell_type": "code",
   "execution_count": 31,
   "id": "0545428a-5fca-461d-a272-357a5fd5bb96",
   "metadata": {},
   "outputs": [],
   "source": [
    "import numpy as np\n",
    "from collections import Counter\n",
    "\n",
    "def euclidean_distance(x1, x2):\n",
    "    distance = np.sqrt(np.sum((x1 - x2) ** 2))\n",
    "    return distance\n",
    "\n",
    "class KNN:\n",
    "    def __init__(self, k=3):\n",
    "        self.k = k\n",
    "\n",
    "    def fit(self, X, y):\n",
    "        self.X_train = X\n",
    "        self.y_train = y\n",
    "\n",
    "    def predict(self, X):\n",
    "        predictions = [self._predict(x) for x in X]\n",
    "        return predictions\n",
    "\n",
    "    def _predict(self, x):\n",
    "        # compute the distance\n",
    "        distances = [euclidean_distance(x, x_train) for x_train in self.X_train]\n",
    "    \n",
    "        # get the closest k labels\n",
    "        k_indices = np.argsort(distances)[:self.k]\n",
    "        k_nearest_labels = [self.y_train[i] for i in k_indices]\n",
    "\n",
    "        # majority vote\n",
    "        most_common = Counter(k_nearest_labels).most_common()\n",
    "        return most_common[0][0]"
   ]
  },
  {
   "cell_type": "code",
   "execution_count": null,
   "id": "23c0bc18-7f96-4ea8-97c3-623d165a1615",
   "metadata": {},
   "outputs": [],
   "source": [
    "# most_common(n) returns a list of top 'n' elements from most common to least common in tuple format (element, count)\n",
    "# If the parameter 'n' is not specified, most_common() returns a list of all elements and their counts\n"
   ]
  },
  {
   "cell_type": "code",
   "execution_count": null,
   "id": "a961eca5-da92-40c5-ad2d-3de4a8adf0af",
   "metadata": {},
   "outputs": [],
   "source": [
    "# Time Complexity = O(num of pts in x_train (i.e. n) + sorting of these pts (i.e. n log n) + num of k pts to find most common (i.e. k))\n",
    "# Overall = O(n log n)"
   ]
  },
  {
   "cell_type": "code",
   "execution_count": null,
   "id": "a6bb44f2-a1f3-476b-a9b0-3b639a3c9dc8",
   "metadata": {},
   "outputs": [],
   "source": []
  },
  {
   "cell_type": "code",
   "execution_count": 18,
   "id": "03df961e-ac71-4756-881b-4ee3edccdbc9",
   "metadata": {},
   "outputs": [],
   "source": [
    "import numpy as np\n",
    "from collections import Counter\n",
    "\n",
    "def euclidean_distance(x1, x2):\n",
    "    distance = np.sqrt(np.sum((x1-x2)**2))\n",
    "    return distance\n",
    "\n",
    "import heapq\n",
    "class KNN:\n",
    "    def __init__(self, k=3):\n",
    "        self.k = k\n",
    "\n",
    "    def fit(self, X, y):\n",
    "        self.X_train = X\n",
    "        self.y_train = y\n",
    "\n",
    "    def predict(self, X):\n",
    "        predictions = [self._predict(x) for x in X]\n",
    "        return predictions\n",
    "\n",
    "    def _predict(self, x):\n",
    "        heap =[]\n",
    "        \n",
    "        # compute the distance\n",
    "        for x_train, y_train in zip(self.X_train, self.y_train): \n",
    "            distance = euclidean_distance(x, x_train)\n",
    "            heapq.heappush(heap, (-distance, y_train)) # push -ve of distance (for max heap) and label both as tuple in heap\n",
    "            if len(heap) > self.k:\n",
    "                heapq.heappop(heap)\n",
    "                \n",
    "           \n",
    "        # Get the label corresponding to k smallest distances\n",
    "        k_nearest = [label for dist, label in heap]\n",
    "        \n",
    "    \n",
    "        # Count the occurrences of each label in the k nearest neighbors\n",
    "        label_counter = Counter(k_nearest)\n",
    "        \n",
    "        # majority vote\n",
    "        most_common = label_counter.most_common()\n",
    "        return most_common[0][0]\n",
    "    \n",
    "    \n",
    " "
   ]
  },
  {
   "cell_type": "code",
   "execution_count": null,
   "id": "73b7e41c-4aaf-49e2-afb4-33bec3eead34",
   "metadata": {},
   "outputs": [],
   "source": [
    "# Time Complexity = O(n log k), each heap push is O(log size of heap) and here the size of heap is at max k"
   ]
  },
  {
   "cell_type": "code",
   "execution_count": 14,
   "id": "48cb1965-27a4-4977-89b2-c3381cb8a7f3",
   "metadata": {},
   "outputs": [],
   "source": []
  },
  {
   "cell_type": "code",
   "execution_count": null,
   "id": "3e7faaf2-09a7-41af-9501-fe4c780a530e",
   "metadata": {},
   "outputs": [],
   "source": []
  },
  {
   "cell_type": "code",
   "execution_count": 19,
   "id": "278d3a7e-af55-454f-8955-7679605bf775",
   "metadata": {},
   "outputs": [
    {
     "name": "stdout",
     "output_type": "stream",
     "text": [
      "The predicted label for [[4, 4]] is: [1]\n"
     ]
    }
   ],
   "source": [
    "X_train = np.array([[6,6], [7,7], [8,8], [9,9]])\n",
    "y_train = np.array([1,1,0,0])\n",
    "\n",
    "test_data = [[4, 4]]\n",
    "\n",
    "# Instantiate KNN classifier\n",
    "knn_classifier = KNN(k=3)\n",
    "\n",
    "# Fit the model\n",
    "knn_classifier.fit(X_train, y_train)\n",
    "\n",
    "# Make a prediction\n",
    "prediction = knn_classifier.predict(test_data)\n",
    "\n",
    "print(f\"The predicted label for {test_data} is: {prediction}\")"
   ]
  },
  {
   "cell_type": "code",
   "execution_count": null,
   "id": "44b46c3e-84b9-499a-a0e9-b164db064a15",
   "metadata": {},
   "outputs": [],
   "source": []
  },
  {
   "cell_type": "code",
   "execution_count": null,
   "id": "1ac77dbb-6096-4299-bc1e-f0caa25f9673",
   "metadata": {},
   "outputs": [],
   "source": []
  }
 ],
 "metadata": {
  "kernelspec": {
   "display_name": "Python 3",
   "language": "python",
   "name": "python3"
  },
  "language_info": {
   "codemirror_mode": {
    "name": "ipython",
    "version": 3
   },
   "file_extension": ".py",
   "mimetype": "text/x-python",
   "name": "python",
   "nbconvert_exporter": "python",
   "pygments_lexer": "ipython3",
   "version": "3.8.8"
  }
 },
 "nbformat": 4,
 "nbformat_minor": 5
}
