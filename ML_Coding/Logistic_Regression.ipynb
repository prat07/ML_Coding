{
 "cells": [
  {
   "cell_type": "code",
   "execution_count": 9,
   "id": "574a8db8-74e9-457d-8278-3bcc6e939a73",
   "metadata": {},
   "outputs": [],
   "source": [
    "import numpy as np\n",
    "from numpy import random"
   ]
  },
  {
   "cell_type": "code",
   "execution_count": 10,
   "id": "3599d7f3-56ea-4b1a-8dd6-f882c6e213a2",
   "metadata": {},
   "outputs": [
    {
     "data": {
      "text/plain": [
       "array([[138, 784, 314, 428, 836, 957, 449,  83, 606, 101],\n",
       "       [ 59, 730, 943, 729, 179, 810, 244, 306, 270, 989],\n",
       "       [190, 833, 958, 946, 790, 343,  92, 354, 157,  62],\n",
       "       [801, 185,  31, 444, 239, 564,  27, 180, 282,  72],\n",
       "       [930,  58, 175,  55, 741, 723, 663, 248,  35, 554],\n",
       "       [519, 306,  64, 231, 907, 661, 971, 975,  69, 288],\n",
       "       [586, 916, 114,  69, 546, 547, 919, 921, 847, 947],\n",
       "       [347, 698, 449, 766, 523, 885, 330,  32, 287, 315],\n",
       "       [883, 396, 152, 316, 529, 391, 117, 672,  24, 500],\n",
       "       [662,  75, 427, 160,  14,  24,  14, 226, 513, 645]])"
      ]
     },
     "execution_count": 10,
     "metadata": {},
     "output_type": "execute_result"
    }
   ],
   "source": [
    "# Generate X\n",
    "X = random.randint(1000, size=(100,10))\n",
    "X[:10]"
   ]
  },
  {
   "cell_type": "code",
   "execution_count": 11,
   "id": "515fe5ec-d8da-4376-a824-13d6c4585b77",
   "metadata": {},
   "outputs": [
    {
     "data": {
      "text/plain": [
       "array([[0],\n",
       "       [0],\n",
       "       [1],\n",
       "       [1],\n",
       "       [1],\n",
       "       [1],\n",
       "       [1],\n",
       "       [0],\n",
       "       [1],\n",
       "       [0]])"
      ]
     },
     "execution_count": 11,
     "metadata": {},
     "output_type": "execute_result"
    }
   ],
   "source": [
    "# Generate y, should be size (r,1)\n",
    "y = random.randint(2, size=(100,1))\n",
    "y [:10]"
   ]
  },
  {
   "cell_type": "code",
   "execution_count": null,
   "id": "0a05cd78-33c7-4328-80f7-ca619d8ed5c8",
   "metadata": {},
   "outputs": [],
   "source": []
  },
  {
   "cell_type": "code",
   "execution_count": 14,
   "id": "ddea8af6-1e53-4107-859f-156dbb0f95db",
   "metadata": {},
   "outputs": [],
   "source": [
    "def sigmoid(x):\n",
    "    return 1/(1+np.exp(-x))\n",
    "\n",
    "def train_log_reg_gd(X, y, learning_rate=0.001, max_epochs=10):\n",
    "    num_datapoints, num_features = X.shape\n",
    "\n",
    "    # set weights and bias to 0\n",
    "    weights = np.zeros(shape=(num_features, 1))\n",
    "    bias = 0\n",
    "\n",
    "    for i in range(max_epochs):\n",
    "        # Calculate simple linear combination y = mx + c or y = X * w + b\n",
    "        y_predict = sigmoid(np.dot(X, weights) + bias)  # O(r*c)\n",
    "        # Use mean squared error to calculate the loss and then\n",
    "        # get the average over all datapoints to get the cost\n",
    "        cost = (-1 / num_datapoints) * np.sum( y * np.log(y_predict)  + (1-y) * np.log(1-y_predict) )\n",
    "\n",
    "        # Calculate gradients\n",
    "        # 1st - gradient with respect to weights\n",
    "        grad_weights = (1 / num_datapoints) * np.dot(X.T, (y_predict - y))  # O(c⋅r)\n",
    "        # 2nd - gradient with respect to bias\n",
    "        grad_bias = (1 / num_datapoints) * np.sum((y_predict - y))  # O(r)\n",
    "\n",
    "        # update weights and bias\n",
    "        weights -= learning_rate * grad_weights\n",
    "        bias -= learning_rate * grad_bias\n",
    "\n",
    "    return weights, bias\n"
   ]
  },
  {
   "cell_type": "code",
   "execution_count": 15,
   "id": "efb99667-57a0-436f-9b58-b68fe2657b5e",
   "metadata": {},
   "outputs": [
    {
     "name": "stderr",
     "output_type": "stream",
     "text": [
      "<ipython-input-14-56cc17162fe5>:2: RuntimeWarning: overflow encountered in exp\n",
      "  return 1/(1+np.exp(-x))\n"
     ]
    }
   ],
   "source": [
    "wts, bs = train_log_reg_gd(X, y)"
   ]
  },
  {
   "cell_type": "code",
   "execution_count": 16,
   "id": "e3c911c9-0196-403f-a040-e4dfdf0aa181",
   "metadata": {},
   "outputs": [
    {
     "data": {
      "text/plain": [
       "array([[ 0.0608051 ],\n",
       "       [-0.28441   ],\n",
       "       [ 0.08867008],\n",
       "       [-0.08053499],\n",
       "       [ 0.10190012],\n",
       "       [-0.31505999],\n",
       "       [ 0.0474    ],\n",
       "       [ 0.11125509],\n",
       "       [-0.06102996],\n",
       "       [-0.02677998]])"
      ]
     },
     "execution_count": 16,
     "metadata": {},
     "output_type": "execute_result"
    }
   ],
   "source": [
    "wts"
   ]
  },
  {
   "cell_type": "markdown",
   "id": "736d0382-d4c6-43ec-b1bb-48c616f5ecf3",
   "metadata": {},
   "source": [
    "### IMP. POINTS TO NOTE\n",
    "#### y shape should (r,1) and weights shape should be (c,1)\n",
    "#### max_epochs should be small, else some calculation will overflow floating point calculation\n",
    "#### cost can also be used as stopping criteria e.g. while cost > 0.0001 enter the loop ie. keep updating wts and bias"
   ]
  },
  {
   "cell_type": "code",
   "execution_count": null,
   "id": "addcad3f-7293-4024-bbbb-a0455e670a4b",
   "metadata": {},
   "outputs": [],
   "source": []
  },
  {
   "cell_type": "code",
   "execution_count": 17,
   "id": "27341abf-7ebf-48bd-96e6-e6767851fd5c",
   "metadata": {},
   "outputs": [],
   "source": [
    "def sigmoid(x):\n",
    "    return 1/(1+np.exp(-x))\n",
    "\n",
    "class LogisticRegression():\n",
    "\n",
    "    def __init__(self, lr=0.001, n_iters=1000):\n",
    "        self.lr = lr\n",
    "        self.n_iters = n_iters\n",
    "        self.weights = None\n",
    "        self.bias = None\n",
    "\n",
    "    def fit(self, X, y):\n",
    "        n_samples, n_features = X.shape\n",
    "        self.weights = np.zeros((n_features,1))\n",
    "        self.bias = 0\n",
    "\n",
    "        for _ in range(self.n_iters):\n",
    "            linear_pred = np.dot(X, self.weights) + self.bias\n",
    "            predictions = sigmoid(linear_pred)\n",
    "\n",
    "            dw = (1/n_samples) * np.dot(X.T, (predictions - y))\n",
    "            db = (1/n_samples) * np.sum(predictions-y)\n",
    "\n",
    "            self.weights = self.weights - self.lr*dw\n",
    "            self.bias = self.bias - self.lr*db\n",
    "\n",
    "\n",
    "    def predict(self, X):\n",
    "        linear_pred = np.dot(X, self.weights) + self.bias\n",
    "        y_pred = sigmoid(linear_pred)\n",
    "        class_pred = [0 if y<=0.5 else 1 for y in y_pred]\n",
    "        return class_pred"
   ]
  },
  {
   "cell_type": "code",
   "execution_count": 18,
   "id": "b023b14c-8544-4ef0-87ac-dd24ed541e2a",
   "metadata": {},
   "outputs": [
    {
     "name": "stderr",
     "output_type": "stream",
     "text": [
      "<ipython-input-17-8cfcd0d97119>:2: RuntimeWarning: overflow encountered in exp\n",
      "  return 1/(1+np.exp(-x))\n"
     ]
    },
    {
     "data": {
      "text/plain": [
       "array([[ 0.00189966],\n",
       "       [-0.97081533],\n",
       "       [ 0.30339035],\n",
       "       [ 0.01528221],\n",
       "       [ 0.46855051],\n",
       "       [-0.63049658],\n",
       "       [ 0.00452158],\n",
       "       [ 0.30401437],\n",
       "       [-0.07754713],\n",
       "       [-0.13377653]])"
      ]
     },
     "execution_count": 18,
     "metadata": {},
     "output_type": "execute_result"
    }
   ],
   "source": [
    "lr = LogisticRegression()\n",
    "lr.fit(X,y)\n",
    "lr.weights"
   ]
  },
  {
   "cell_type": "code",
   "execution_count": null,
   "id": "fa45c87b-01ae-444f-b75e-80961a3b235b",
   "metadata": {},
   "outputs": [],
   "source": [
    "# Time Complexity = O(num of epochs * num of data pts)"
   ]
  },
  {
   "cell_type": "code",
   "execution_count": null,
   "id": "22fd2bd3-153f-4a32-9660-44c4e24eda11",
   "metadata": {},
   "outputs": [],
   "source": []
  }
 ],
 "metadata": {
  "kernelspec": {
   "display_name": "Python 3",
   "language": "python",
   "name": "python3"
  },
  "language_info": {
   "codemirror_mode": {
    "name": "ipython",
    "version": 3
   },
   "file_extension": ".py",
   "mimetype": "text/x-python",
   "name": "python",
   "nbconvert_exporter": "python",
   "pygments_lexer": "ipython3",
   "version": "3.8.8"
  }
 },
 "nbformat": 4,
 "nbformat_minor": 5
}
